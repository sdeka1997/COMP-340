{
 "cells": [
  {
   "cell_type": "markdown",
   "metadata": {},
   "source": [
    "# Tweet Analysis and Visualization\n",
    "In this question, you will load tweet data into pandas dataframes and analyse (and visualize!) some interesting trends using the [matplotlib](http://matplotlib.org) package."
   ]
  },
  {
   "cell_type": "markdown",
   "metadata": {},
   "source": [
    "## Q1. Load Twitter data using pandas\n",
    "You are given three data files users.csv, edges.csv, tweets.csv. Fill in the following function that reads these three files return the data frames for users, edges and tweets.\n",
    "\n",
    "Pandas will treat missing values as NaNs by default. However, for this assignment, you should treat missing values (i.e., empty strings in the csv files) as empty strings."
   ]
  },
  {
   "cell_type": "code",
   "execution_count": 45,
   "metadata": {},
   "outputs": [],
   "source": [
    "import pandas as pd\n",
    "import matplotlib.pyplot as plt\n",
    "%matplotlib inline\n",
    "plt.rcParams['figure.figsize'] = (10,7)"
   ]
  },
  {
   "cell_type": "code",
   "execution_count": 46,
   "metadata": {},
   "outputs": [],
   "source": [
    "def load_twitter_data_pandas(users_file, edges_file, tweets_file):\n",
    "    \"\"\" Loads the Twitter data from the csv files into Pandas dataframes\n",
    "    Input:\n",
    "        users_file (str) \n",
    "        edges_file (str) \n",
    "        tweets_file (str) \n",
    "    Output:\n",
    "        (pd.DataFrame, pd.DataFrame, pd.DataFrame) : A tuple of three dataframes, the first one for users,\n",
    "                                                    the second for edges and the third for tweets.\n",
    "    \"\"\"\n",
    "    \n",
    "    users = pd.read_csv(users_file).fillna('')\n",
    "    edges = pd.read_csv(edges_file).fillna('')\n",
    "    tweets = pd.read_csv(tweets_file).fillna('')\n",
    "    \n",
    "    \n",
    "    return (users, edges, tweets)\n",
    "    \n"
   ]
  },
  {
   "cell_type": "markdown",
   "metadata": {},
   "source": [
    "### Test load_twitter_data_pandas"
   ]
  },
  {
   "cell_type": "code",
   "execution_count": 47,
   "metadata": {},
   "outputs": [],
   "source": [
    "(users_df, edges_df, tweets_df) = load_twitter_data_pandas('users.csv', 'edges.csv', 'tweets.csv')"
   ]
  },
  {
   "cell_type": "code",
   "execution_count": 48,
   "metadata": {},
   "outputs": [
    {
     "data": {
      "text/html": [
       "<div>\n",
       "<style scoped>\n",
       "    .dataframe tbody tr th:only-of-type {\n",
       "        vertical-align: middle;\n",
       "    }\n",
       "\n",
       "    .dataframe tbody tr th {\n",
       "        vertical-align: top;\n",
       "    }\n",
       "\n",
       "    .dataframe thead th {\n",
       "        text-align: right;\n",
       "    }\n",
       "</style>\n",
       "<table border=\"1\" class=\"dataframe\">\n",
       "  <thead>\n",
       "    <tr style=\"text-align: right;\">\n",
       "      <th></th>\n",
       "      <th>name</th>\n",
       "      <th>screen_name</th>\n",
       "      <th>location</th>\n",
       "      <th>created_at</th>\n",
       "      <th>friends_count</th>\n",
       "      <th>followers_count</th>\n",
       "      <th>statuses_count</th>\n",
       "      <th>favourites_count</th>\n",
       "    </tr>\n",
       "  </thead>\n",
       "  <tbody>\n",
       "    <tr>\n",
       "      <th>0</th>\n",
       "      <td>Donald J. Trump</td>\n",
       "      <td>realDonaldTrump</td>\n",
       "      <td>New York, NY</td>\n",
       "      <td>Wed Mar 18 13:46:38 +0000 2009</td>\n",
       "      <td>42</td>\n",
       "      <td>11397769</td>\n",
       "      <td>33136</td>\n",
       "      <td>38</td>\n",
       "    </tr>\n",
       "    <tr>\n",
       "      <th>1</th>\n",
       "      <td>Trump Organization</td>\n",
       "      <td>Trump</td>\n",
       "      <td>New York, NY</td>\n",
       "      <td>Wed Apr 13 16:51:54 +0000 2016</td>\n",
       "      <td>35</td>\n",
       "      <td>9954</td>\n",
       "      <td>43</td>\n",
       "      <td>125</td>\n",
       "    </tr>\n",
       "    <tr>\n",
       "      <th>2</th>\n",
       "      <td>Trump Golf</td>\n",
       "      <td>TrumpGolf</td>\n",
       "      <td></td>\n",
       "      <td>Mon Feb 03 13:46:03 +0000 2014</td>\n",
       "      <td>200</td>\n",
       "      <td>8797</td>\n",
       "      <td>758</td>\n",
       "      <td>251</td>\n",
       "    </tr>\n",
       "    <tr>\n",
       "      <th>3</th>\n",
       "      <td>Tiffany Trump</td>\n",
       "      <td>TiffanyATrump</td>\n",
       "      <td></td>\n",
       "      <td>Tue Feb 01 20:59:30 +0000 2011</td>\n",
       "      <td>79</td>\n",
       "      <td>63138</td>\n",
       "      <td>573</td>\n",
       "      <td>28</td>\n",
       "    </tr>\n",
       "    <tr>\n",
       "      <th>4</th>\n",
       "      <td>Laura Ingraham</td>\n",
       "      <td>IngrahamAngle</td>\n",
       "      <td>DC</td>\n",
       "      <td>Thu Jun 25 21:03:25 +0000 2009</td>\n",
       "      <td>289</td>\n",
       "      <td>851876</td>\n",
       "      <td>26523</td>\n",
       "      <td>71</td>\n",
       "    </tr>\n",
       "  </tbody>\n",
       "</table>\n",
       "</div>"
      ],
      "text/plain": [
       "                 name      screen_name      location  \\\n",
       "0     Donald J. Trump  realDonaldTrump  New York, NY   \n",
       "1  Trump Organization            Trump  New York, NY   \n",
       "2          Trump Golf        TrumpGolf                 \n",
       "3       Tiffany Trump    TiffanyATrump                 \n",
       "4      Laura Ingraham    IngrahamAngle            DC   \n",
       "\n",
       "                       created_at  friends_count  followers_count  \\\n",
       "0  Wed Mar 18 13:46:38 +0000 2009             42         11397769   \n",
       "1  Wed Apr 13 16:51:54 +0000 2016             35             9954   \n",
       "2  Mon Feb 03 13:46:03 +0000 2014            200             8797   \n",
       "3  Tue Feb 01 20:59:30 +0000 2011             79            63138   \n",
       "4  Thu Jun 25 21:03:25 +0000 2009            289           851876   \n",
       "\n",
       "   statuses_count  favourites_count  \n",
       "0           33136                38  \n",
       "1              43               125  \n",
       "2             758               251  \n",
       "3             573                28  \n",
       "4           26523                71  "
      ]
     },
     "execution_count": 48,
     "metadata": {},
     "output_type": "execute_result"
    }
   ],
   "source": [
    "users_df.head()"
   ]
  },
  {
   "cell_type": "code",
   "execution_count": 49,
   "metadata": {},
   "outputs": [
    {
     "data": {
      "text/html": [
       "<div>\n",
       "<style scoped>\n",
       "    .dataframe tbody tr th:only-of-type {\n",
       "        vertical-align: middle;\n",
       "    }\n",
       "\n",
       "    .dataframe tbody tr th {\n",
       "        vertical-align: top;\n",
       "    }\n",
       "\n",
       "    .dataframe thead th {\n",
       "        text-align: right;\n",
       "    }\n",
       "</style>\n",
       "<table border=\"1\" class=\"dataframe\">\n",
       "  <thead>\n",
       "    <tr style=\"text-align: right;\">\n",
       "      <th></th>\n",
       "      <th>screen_name</th>\n",
       "      <th>friend</th>\n",
       "    </tr>\n",
       "  </thead>\n",
       "  <tbody>\n",
       "    <tr>\n",
       "      <th>0</th>\n",
       "      <td>realDonaldTrump</td>\n",
       "      <td>Trump</td>\n",
       "    </tr>\n",
       "    <tr>\n",
       "      <th>1</th>\n",
       "      <td>realDonaldTrump</td>\n",
       "      <td>TrumpGolf</td>\n",
       "    </tr>\n",
       "    <tr>\n",
       "      <th>2</th>\n",
       "      <td>realDonaldTrump</td>\n",
       "      <td>TiffanyATrump</td>\n",
       "    </tr>\n",
       "    <tr>\n",
       "      <th>3</th>\n",
       "      <td>realDonaldTrump</td>\n",
       "      <td>IngrahamAngle</td>\n",
       "    </tr>\n",
       "    <tr>\n",
       "      <th>4</th>\n",
       "      <td>realDonaldTrump</td>\n",
       "      <td>mike_pence</td>\n",
       "    </tr>\n",
       "  </tbody>\n",
       "</table>\n",
       "</div>"
      ],
      "text/plain": [
       "       screen_name         friend\n",
       "0  realDonaldTrump          Trump\n",
       "1  realDonaldTrump      TrumpGolf\n",
       "2  realDonaldTrump  TiffanyATrump\n",
       "3  realDonaldTrump  IngrahamAngle\n",
       "4  realDonaldTrump     mike_pence"
      ]
     },
     "execution_count": 49,
     "metadata": {},
     "output_type": "execute_result"
    }
   ],
   "source": [
    "edges_df.head()"
   ]
  },
  {
   "cell_type": "code",
   "execution_count": 50,
   "metadata": {},
   "outputs": [
    {
     "data": {
      "text/html": [
       "<div>\n",
       "<style scoped>\n",
       "    .dataframe tbody tr th:only-of-type {\n",
       "        vertical-align: middle;\n",
       "    }\n",
       "\n",
       "    .dataframe tbody tr th {\n",
       "        vertical-align: top;\n",
       "    }\n",
       "\n",
       "    .dataframe thead th {\n",
       "        text-align: right;\n",
       "    }\n",
       "</style>\n",
       "<table border=\"1\" class=\"dataframe\">\n",
       "  <thead>\n",
       "    <tr style=\"text-align: right;\">\n",
       "      <th></th>\n",
       "      <th>screen_name</th>\n",
       "      <th>created_at</th>\n",
       "      <th>retweet_count</th>\n",
       "      <th>favorite_count</th>\n",
       "      <th>text</th>\n",
       "    </tr>\n",
       "  </thead>\n",
       "  <tbody>\n",
       "    <tr>\n",
       "      <th>0</th>\n",
       "      <td>realDonaldTrump</td>\n",
       "      <td>Fri Sep 09 02:00:32 +0000 2016</td>\n",
       "      <td>2859</td>\n",
       "      <td>7030</td>\n",
       "      <td>Final poll results from NBC on last nights Com...</td>\n",
       "    </tr>\n",
       "    <tr>\n",
       "      <th>1</th>\n",
       "      <td>realDonaldTrump</td>\n",
       "      <td>Fri Sep 09 00:39:36 +0000 2016</td>\n",
       "      <td>6463</td>\n",
       "      <td>17951</td>\n",
       "      <td>It wasn't Matt Lauer that hurt Hillary last ni...</td>\n",
       "    </tr>\n",
       "    <tr>\n",
       "      <th>2</th>\n",
       "      <td>realDonaldTrump</td>\n",
       "      <td>Thu Sep 08 23:56:22 +0000 2016</td>\n",
       "      <td>5405</td>\n",
       "      <td>13223</td>\n",
       "      <td>More poll results from last nights Commander-i...</td>\n",
       "    </tr>\n",
       "    <tr>\n",
       "      <th>3</th>\n",
       "      <td>realDonaldTrump</td>\n",
       "      <td>Thu Sep 08 19:52:32 +0000 2016</td>\n",
       "      <td>11633</td>\n",
       "      <td>27028</td>\n",
       "      <td>Last nights results - in poll taken by NBC. #A...</td>\n",
       "    </tr>\n",
       "    <tr>\n",
       "      <th>4</th>\n",
       "      <td>realDonaldTrump</td>\n",
       "      <td>Thu Sep 08 18:17:01 +0000 2016</td>\n",
       "      <td>3824</td>\n",
       "      <td>12567</td>\n",
       "      <td>With Luis, Mexico and the United States would ...</td>\n",
       "    </tr>\n",
       "  </tbody>\n",
       "</table>\n",
       "</div>"
      ],
      "text/plain": [
       "       screen_name                      created_at  retweet_count  \\\n",
       "0  realDonaldTrump  Fri Sep 09 02:00:32 +0000 2016           2859   \n",
       "1  realDonaldTrump  Fri Sep 09 00:39:36 +0000 2016           6463   \n",
       "2  realDonaldTrump  Thu Sep 08 23:56:22 +0000 2016           5405   \n",
       "3  realDonaldTrump  Thu Sep 08 19:52:32 +0000 2016          11633   \n",
       "4  realDonaldTrump  Thu Sep 08 18:17:01 +0000 2016           3824   \n",
       "\n",
       "   favorite_count                                               text  \n",
       "0            7030  Final poll results from NBC on last nights Com...  \n",
       "1           17951  It wasn't Matt Lauer that hurt Hillary last ni...  \n",
       "2           13223  More poll results from last nights Commander-i...  \n",
       "3           27028  Last nights results - in poll taken by NBC. #A...  \n",
       "4           12567  With Luis, Mexico and the United States would ...  "
      ]
     },
     "execution_count": 50,
     "metadata": {},
     "output_type": "execute_result"
    }
   ],
   "source": [
    "tweets_df.head()"
   ]
  },
  {
   "cell_type": "markdown",
   "metadata": {},
   "source": [
    "## Q2.  Trending tweets on a topic\n",
    "Twitter is regarded as an invaluable source of valuable information. Hence, one of the favorite tasks of data miners is the analyse the trending tweets in a given topic.\n",
    "\n",
    "This task requires you to retrieve the top N most trending tweets (in descending order of trending_score) about a given topic (which is a list of keywords). The following information may be useful:\n",
    "\n",
    "A tweet is said to be about a given topic if it contains any of the given topical phrases/keywords.\n",
    "We will use the following simple trending_score: retweet_count + favorite_count. Tweets with higher trending_score must be ranked before the ones with lower trending_score.\n",
    "Your result must contain unique tweets. If a tweet text occurs multiple times, display it only once with its highest trending_score.\n",
    "Break ties by sorting the tweets in alphabetical order.\n",
    "The output schema should be as follows:\n",
    "\n",
    "tweet (TEXT)\ttrending_score (INTEGER)\n"
   ]
  },
  {
   "cell_type": "code",
   "execution_count": 125,
   "metadata": {},
   "outputs": [],
   "source": [
    "def trending_tweets(tweets_df, topical_phrase='Hillary Clinton', N=5):\n",
    "    \"\"\" Retrieves the top N trending tweets containing one or more of the given topical phrases.\n",
    "    Input:\n",
    "        tweets_df: the tweets dataframe.\n",
    "        topical_phrase (a string): A keywords identifying a topic.\n",
    "        N: Number of trending tweets to retrieve\n",
    "    Output:\n",
    "        \n",
    "    \"\"\"\n",
    "    pd.set_option('mode.chained_assignment', None)\n",
    "    tweets = tweets_df.drop_duplicates(subset='text')\n",
    "    tweets = tweets[tweets['text'].str.contains(topical_phrase, case=False)]\n",
    "    tweets['trending_score'] = tweets['retweet_count'] + tweets['favorite_count']\n",
    "    tweets = tweets.sort_values('text', ascending=True)\n",
    "    sorted_tweets = tweets.sort_values(by = ['trending_score'], ascending=False)\n",
    "    return sorted_tweets.head(n=N)\n",
    "    \n",
    "\n",
    "    "
   ]
  },
  {
   "cell_type": "markdown",
   "metadata": {},
   "source": [
    "## Test trending_tweets function"
   ]
  },
  {
   "cell_type": "code",
   "execution_count": 126,
   "metadata": {},
   "outputs": [
    {
     "data": {
      "text/html": [
       "<div>\n",
       "<style scoped>\n",
       "    .dataframe tbody tr th:only-of-type {\n",
       "        vertical-align: middle;\n",
       "    }\n",
       "\n",
       "    .dataframe tbody tr th {\n",
       "        vertical-align: top;\n",
       "    }\n",
       "\n",
       "    .dataframe thead th {\n",
       "        text-align: right;\n",
       "    }\n",
       "</style>\n",
       "<table border=\"1\" class=\"dataframe\">\n",
       "  <thead>\n",
       "    <tr style=\"text-align: right;\">\n",
       "      <th></th>\n",
       "      <th>screen_name</th>\n",
       "      <th>created_at</th>\n",
       "      <th>retweet_count</th>\n",
       "      <th>favorite_count</th>\n",
       "      <th>text</th>\n",
       "      <th>trending_score</th>\n",
       "    </tr>\n",
       "  </thead>\n",
       "  <tbody>\n",
       "    <tr>\n",
       "      <th>9</th>\n",
       "      <td>realDonaldTrump</td>\n",
       "      <td>Thu Sep 08 12:10:13 +0000 2016</td>\n",
       "      <td>8120</td>\n",
       "      <td>26298</td>\n",
       "      <td>\"A rough night for Hillary Clinton\"  ABC News.</td>\n",
       "      <td>34418</td>\n",
       "    </tr>\n",
       "    <tr>\n",
       "      <th>6</th>\n",
       "      <td>realDonaldTrump</td>\n",
       "      <td>Thu Sep 08 16:25:36 +0000 2016</td>\n",
       "      <td>8599</td>\n",
       "      <td>24244</td>\n",
       "      <td>Hillary Clinton answered email questions diffe...</td>\n",
       "      <td>32843</td>\n",
       "    </tr>\n",
       "    <tr>\n",
       "      <th>18</th>\n",
       "      <td>realDonaldTrump</td>\n",
       "      <td>Wed Sep 07 15:11:59 +0000 2016</td>\n",
       "      <td>8123</td>\n",
       "      <td>21415</td>\n",
       "      <td>'Donald Trump leads Hillary Clinton by 19 poin...</td>\n",
       "      <td>29538</td>\n",
       "    </tr>\n",
       "    <tr>\n",
       "      <th>4829</th>\n",
       "      <td>PaulManafort</td>\n",
       "      <td>Thu Aug 11 16:46:13 +0000 2016</td>\n",
       "      <td>1166</td>\n",
       "      <td>1895</td>\n",
       "      <td>Donald Trump narrowly leads Hillary Clinton in...</td>\n",
       "      <td>3061</td>\n",
       "    </tr>\n",
       "    <tr>\n",
       "      <th>4839</th>\n",
       "      <td>PaulManafort</td>\n",
       "      <td>Mon Aug 08 14:09:40 +0000 2016</td>\n",
       "      <td>1395</td>\n",
       "      <td>1614</td>\n",
       "      <td>Why Hillary Clinton's email controversy is sti...</td>\n",
       "      <td>3009</td>\n",
       "    </tr>\n",
       "  </tbody>\n",
       "</table>\n",
       "</div>"
      ],
      "text/plain": [
       "          screen_name                      created_at  retweet_count  \\\n",
       "9     realDonaldTrump  Thu Sep 08 12:10:13 +0000 2016           8120   \n",
       "6     realDonaldTrump  Thu Sep 08 16:25:36 +0000 2016           8599   \n",
       "18    realDonaldTrump  Wed Sep 07 15:11:59 +0000 2016           8123   \n",
       "4829     PaulManafort  Thu Aug 11 16:46:13 +0000 2016           1166   \n",
       "4839     PaulManafort  Mon Aug 08 14:09:40 +0000 2016           1395   \n",
       "\n",
       "      favorite_count                                               text  \\\n",
       "9              26298     \"A rough night for Hillary Clinton\"  ABC News.   \n",
       "6              24244  Hillary Clinton answered email questions diffe...   \n",
       "18             21415  'Donald Trump leads Hillary Clinton by 19 poin...   \n",
       "4829            1895  Donald Trump narrowly leads Hillary Clinton in...   \n",
       "4839            1614  Why Hillary Clinton's email controversy is sti...   \n",
       "\n",
       "      trending_score  \n",
       "9              34418  \n",
       "6              32843  \n",
       "18             29538  \n",
       "4829            3061  \n",
       "4839            3009  "
      ]
     },
     "execution_count": 126,
     "metadata": {},
     "output_type": "execute_result"
    }
   ],
   "source": [
    "trending_tweets(tweets_df,'Hillary Clinton',5)"
   ]
  },
  {
   "cell_type": "code",
   "execution_count": 127,
   "metadata": {},
   "outputs": [
    {
     "data": {
      "text/html": [
       "<div>\n",
       "<style scoped>\n",
       "    .dataframe tbody tr th:only-of-type {\n",
       "        vertical-align: middle;\n",
       "    }\n",
       "\n",
       "    .dataframe tbody tr th {\n",
       "        vertical-align: top;\n",
       "    }\n",
       "\n",
       "    .dataframe thead th {\n",
       "        text-align: right;\n",
       "    }\n",
       "</style>\n",
       "<table border=\"1\" class=\"dataframe\">\n",
       "  <thead>\n",
       "    <tr style=\"text-align: right;\">\n",
       "      <th></th>\n",
       "      <th>screen_name</th>\n",
       "      <th>created_at</th>\n",
       "      <th>retweet_count</th>\n",
       "      <th>favorite_count</th>\n",
       "      <th>text</th>\n",
       "      <th>trending_score</th>\n",
       "    </tr>\n",
       "  </thead>\n",
       "  <tbody>\n",
       "    <tr>\n",
       "      <th>18</th>\n",
       "      <td>realDonaldTrump</td>\n",
       "      <td>Wed Sep 07 15:11:59 +0000 2016</td>\n",
       "      <td>8123</td>\n",
       "      <td>21415</td>\n",
       "      <td>'Donald Trump leads Hillary Clinton by 19 poin...</td>\n",
       "      <td>29538</td>\n",
       "    </tr>\n",
       "    <tr>\n",
       "      <th>335</th>\n",
       "      <td>KatrinaPierson</td>\n",
       "      <td>Sat Sep 17 16:50:15 +0000 2016</td>\n",
       "      <td>5418</td>\n",
       "      <td>0</td>\n",
       "      <td>RT @realDonaldTrump: \"Donald Trump’s birther e...</td>\n",
       "      <td>5418</td>\n",
       "    </tr>\n",
       "    <tr>\n",
       "      <th>723</th>\n",
       "      <td>morningmika</td>\n",
       "      <td>Thu Sep 08 14:38:45 +0000 2016</td>\n",
       "      <td>5234</td>\n",
       "      <td>0</td>\n",
       "      <td>RT @HillaryClinton: The next time Donald Trump...</td>\n",
       "      <td>5234</td>\n",
       "    </tr>\n",
       "    <tr>\n",
       "      <th>4834</th>\n",
       "      <td>PaulManafort</td>\n",
       "      <td>Wed Aug 10 23:23:10 +0000 2016</td>\n",
       "      <td>1515</td>\n",
       "      <td>2257</td>\n",
       "      <td>Donald Trump pushes fiscally sound economic pl...</td>\n",
       "      <td>3772</td>\n",
       "    </tr>\n",
       "    <tr>\n",
       "      <th>4829</th>\n",
       "      <td>PaulManafort</td>\n",
       "      <td>Thu Aug 11 16:46:13 +0000 2016</td>\n",
       "      <td>1166</td>\n",
       "      <td>1895</td>\n",
       "      <td>Donald Trump narrowly leads Hillary Clinton in...</td>\n",
       "      <td>3061</td>\n",
       "    </tr>\n",
       "  </tbody>\n",
       "</table>\n",
       "</div>"
      ],
      "text/plain": [
       "          screen_name                      created_at  retweet_count  \\\n",
       "18    realDonaldTrump  Wed Sep 07 15:11:59 +0000 2016           8123   \n",
       "335    KatrinaPierson  Sat Sep 17 16:50:15 +0000 2016           5418   \n",
       "723       morningmika  Thu Sep 08 14:38:45 +0000 2016           5234   \n",
       "4834     PaulManafort  Wed Aug 10 23:23:10 +0000 2016           1515   \n",
       "4829     PaulManafort  Thu Aug 11 16:46:13 +0000 2016           1166   \n",
       "\n",
       "      favorite_count                                               text  \\\n",
       "18             21415  'Donald Trump leads Hillary Clinton by 19 poin...   \n",
       "335                0  RT @realDonaldTrump: \"Donald Trump’s birther e...   \n",
       "723                0  RT @HillaryClinton: The next time Donald Trump...   \n",
       "4834            2257  Donald Trump pushes fiscally sound economic pl...   \n",
       "4829            1895  Donald Trump narrowly leads Hillary Clinton in...   \n",
       "\n",
       "      trending_score  \n",
       "18             29538  \n",
       "335             5418  \n",
       "723             5234  \n",
       "4834            3772  \n",
       "4829            3061  "
      ]
     },
     "execution_count": 127,
     "metadata": {},
     "output_type": "execute_result"
    }
   ],
   "source": [
    "trending_tweets(tweets_df,'Donald Trump',5)"
   ]
  },
  {
   "cell_type": "markdown",
   "metadata": {},
   "source": [
    "## Q3: Tweet recommendation\n",
    "How does Twitter go about populating the feed for a user? While Twitter may use a complex models to do this, in this task, we will use a Simple Tweet Recommender (STR), which recommends a user's tweets to all users who follow him/her (without checking for possible duplicates; i.e., STR may recommend the same tweet twice if two of a user's friends have posted it).\n",
    "\n",
    "In this task, you will determine the number of tweets recommended to each user. Use only the snapshot of edges and tweets we have provided to you to do the recommendation. Report the results on the users present in the users table. (Hint: The number of records in your output should match that in the \"users\" table.) The order of results does not matter.\n",
    "\n",
    "The output frame should be:\n",
    "\n",
    "screen_name (TEXT) num_tweets (INTEGER)"
   ]
  },
  {
   "cell_type": "code",
   "execution_count": 169,
   "metadata": {},
   "outputs": [],
   "source": [
    "def num_tweets_in_feed(users_df,edges_df,tweets_df):\n",
    "    \"\"\" Retrieves the number of tweets STR recommends to each Twitter user.\n",
    "    Input:\n",
    "        all the pandas dataframes for this problem\n",
    "    Output:\n",
    "        results: a dataframe associating screen name with number of tweets in feed\n",
    "    \"\"\"\n",
    "    tweets = tweets_df.sort_values('screen_name', ascending=True)\n",
    "    users = users_df\n",
    "    edges = edges_df\n",
    "    counts = tweets.groupby(['screen_name'])['text'].count().to_frame()\n",
    "    counts = counts.rename(index=str, columns = {'text':'recommended tweets'})\n",
    "    merged = pd.merge(edges, counts, left_on = ['friend'], right_on = ['screen_name'], how = 'left')\n",
    "    total = merged.groupby(['screen_name'])[['recommended tweets']].sum()\n",
    "    result = pd.merge(users, total, left_on = ['screen_name'], right_on = ['screen_name'], how = 'left')\n",
    "    \n",
    "    return result\n",
    "    \n",
    "    \n",
    "    \n",
    "\n",
    "\n"
   ]
  },
  {
   "cell_type": "markdown",
   "metadata": {},
   "source": [
    "## Test num_tweets_in_feed function"
   ]
  },
  {
   "cell_type": "code",
   "execution_count": 171,
   "metadata": {},
   "outputs": [
    {
     "data": {
      "text/html": [
       "<div>\n",
       "<style scoped>\n",
       "    .dataframe tbody tr th:only-of-type {\n",
       "        vertical-align: middle;\n",
       "    }\n",
       "\n",
       "    .dataframe tbody tr th {\n",
       "        vertical-align: top;\n",
       "    }\n",
       "\n",
       "    .dataframe thead th {\n",
       "        text-align: right;\n",
       "    }\n",
       "</style>\n",
       "<table border=\"1\" class=\"dataframe\">\n",
       "  <thead>\n",
       "    <tr style=\"text-align: right;\">\n",
       "      <th></th>\n",
       "      <th>name</th>\n",
       "      <th>screen_name</th>\n",
       "      <th>location</th>\n",
       "      <th>created_at</th>\n",
       "      <th>friends_count</th>\n",
       "      <th>followers_count</th>\n",
       "      <th>statuses_count</th>\n",
       "      <th>favourites_count</th>\n",
       "      <th>recommended tweets</th>\n",
       "    </tr>\n",
       "  </thead>\n",
       "  <tbody>\n",
       "    <tr>\n",
       "      <th>35</th>\n",
       "      <td>Eric Trump</td>\n",
       "      <td>EricTrump</td>\n",
       "      <td></td>\n",
       "      <td>Mon May 11 21:42:30 +0000 2009</td>\n",
       "      <td>442</td>\n",
       "      <td>448205</td>\n",
       "      <td>4103</td>\n",
       "      <td>3290</td>\n",
       "      <td>340.0</td>\n",
       "    </tr>\n",
       "  </tbody>\n",
       "</table>\n",
       "</div>"
      ],
      "text/plain": [
       "          name screen_name location                      created_at  \\\n",
       "35  Eric Trump   EricTrump           Mon May 11 21:42:30 +0000 2009   \n",
       "\n",
       "    friends_count  followers_count  statuses_count  favourites_count  \\\n",
       "35            442           448205            4103              3290   \n",
       "\n",
       "    recommended tweets  \n",
       "35               340.0  "
      ]
     },
     "execution_count": 171,
     "metadata": {},
     "output_type": "execute_result"
    }
   ],
   "source": [
    "results = num_tweets_in_feed(users_df,edges_df,tweets_df)\n",
    "results[results.screen_name=='EricTrump']"
   ]
  },
  {
   "cell_type": "markdown",
   "metadata": {},
   "source": [
    "## Q4. Computing Correlations \n",
    "Statisticians and data analysts usually like to study about correlation between different observed variables. This helps uncover interesting patterns in the data such as causal relationships (e.g., snow on the road leads to increase in number of accidents). Correlation studies are important for multiple reasons:\n",
    "- While [correlation does not imply causation](https://en.wikipedia.org/wiki/Correlation_does_not_imply_causation), a lack of correlation implies a lack of causation. This can be used to rule out many causal relationships.\n",
    "- Correlation helps with prediction. The more closely related two variables are, the easier it is to predict one from the other.\n",
    "\n",
    "In this task, we ask you to plot the friends_count (on y-axis) vs the followers_count (on x-axis) using the matplotlib package. [Here](http://matplotlib.org/examples/shapes_and_collections/scatter_demo.html) is an example to get started with scatter plots."
   ]
  },
  {
   "cell_type": "code",
   "execution_count": 175,
   "metadata": {},
   "outputs": [],
   "source": [
    "def plot_friends_vs_followers(users_df):\n",
    "    \"\"\" Plots the friends_count (on y-axis) against the followers_count (on x-axis).\n",
    "    Input:\n",
    "        users_df (pd.DataFrame) : Dataframe containing Twitter user attributes,\n",
    "                                    as returned by load_twitter_data_pandas()\n",
    "    Output:\n",
    "     The  scatter plot \n",
    "    \"\"\"\n",
    "    \n",
    "\n",
    "    return users_df.plot(kind='scatter',y='friends_count', x='followers_count')\n"
   ]
  },
  {
   "cell_type": "code",
   "execution_count": 176,
   "metadata": {},
   "outputs": [
    {
     "data": {
      "image/png": "[encoded data removed]",
      "text/plain": [
       "<Figure size 720x504 with 1 Axes>"
      ]
     },
     "metadata": {},
     "output_type": "display_data"
    }
   ],
   "source": [
    "p = plot_friends_vs_followers(users_df)\n",
    "plt.show()"
   ]
  },
  {
   "cell_type": "markdown",
   "metadata": {},
   "source": [
    "Do you see a correlation between these two variables from your scatter plot? Let's measure this quantitatively using the [Pearson's correlation coefficient](https://en.wikipedia.org/wiki/Pearson_product-moment_correlation_coefficient). \n",
    "\n",
    "For a set of observations $(X,Y) = [(x_1,y_1), (x_2,y_2), ... , (x_n,y_n)]$, the Pearson's correlation coefficient is a measure of the linear dependence between two variables $X$ and $Y$, giving a value between +1 and −1 inclusive, where 1 is total positive correlation, 0 is no correlation, and −1 is total negative correlation.\n",
    "\n",
    "$r=r_{xy}={\\frac {n\\sum x_{i}y_{i}-\\sum x_{i}\\sum y_{i}}{{\\sqrt {n\\sum x_{i}^{2}-(\\sum x_{i})^{2}}}~{\\sqrt {n\\sum y_{i}^{2}-(\\sum y_{i})^{2}}}}}$\n",
    "\n",
    "Now, fill in the following function to compute the Pearson's correlation coefficient between friends_count and followers_count."
   ]
  },
  {
   "cell_type": "code",
   "execution_count": 186,
   "metadata": {},
   "outputs": [],
   "source": [
    "def correlation_coefficient(users_df):\n",
    "    \"\"\" Computes correlation coefficient between friends_count and followers_count in users_df.\n",
    "    Input:\n",
    "        users_df (pd.DataFrame) : Dataframe containing Twitter user attributes,\n",
    "                                    as returned by load_twitter_data_pandas()\n",
    "    Output:\n",
    "        (double) : correlation coefficient between friends_count and followers_count\n",
    "    \"\"\"\n",
    "   \n",
    "    return users_df.corr(method='pearson')['friends_count']['followers_count']\n",
    "\n"
   ]
  },
  {
   "cell_type": "code",
   "execution_count": 187,
   "metadata": {},
   "outputs": [
    {
     "name": "stdout",
     "output_type": "stream",
     "text": [
      "0.09308640516482404\n"
     ]
    }
   ],
   "source": [
    "print (correlation_coefficient(users_df))"
   ]
  },
  {
   "cell_type": "markdown",
   "metadata": {},
   "source": [
    "## Q5.  Degree distribution \n",
    "\n",
    "As you're familiar with graphs, you might know that the degree of a node is the number of connections it has to other nodes. A common statistic to look out for in the case of real world graphs is the degree distribution. Literature says degrees of nodes in real world graphs follow a [power law distribution](https://en.wikipedia.org/wiki/Power_law). The implication is that a scatter plot of num_users versus k (as we will define below) yields an almost straight line. In this task, we shall verify whether the given crawl of Twitter network satisfies this property.\n",
    "\n",
    "Let us call the number of friends a Twitter user has as his/her degree. The degree distribution is a histogram of the number of friends. Your task is to visualize this histogram. Use the default number of bins."
   ]
  },
  {
   "cell_type": "code",
   "execution_count": 211,
   "metadata": {},
   "outputs": [],
   "source": [
    "def degree_distribution(edges_df):\n",
    "    \"\"\" Plots the distribution of .\n",
    "    Input:\n",
    "        edges_df (pd.DataFrame) : Dataframe containing Twitter edges,\n",
    "                        as returned by load_twitter_data_pandas()\n",
    "    Output:\n",
    "        histogram of number of friends\n",
    "    \"\"\"\n",
    "    total = edges_df.groupby(['screen_name']).count()\n",
    "\n",
    "    return total['friend'].plot.hist()\n",
    "    \n"
   ]
  },
  {
   "cell_type": "code",
   "execution_count": 212,
   "metadata": {},
   "outputs": [
    {
     "data": {
      "text/plain": [
       "<matplotlib.axes._subplots.AxesSubplot at 0x10c6bb400>"
      ]
     },
     "execution_count": 212,
     "metadata": {},
     "output_type": "execute_result"
    },
    {
     "data": {
      "image/png": "[encoded data removed]",
      "text/plain": [
       "<Figure size 720x504 with 1 Axes>"
      ]
     },
     "metadata": {},
     "output_type": "display_data"
    }
   ],
   "source": [
    "degree_distribution(edges_df)"
   ]
  },
  {
   "cell_type": "markdown",
   "metadata": {},
   "source": [
    "## Question\n",
    "\n",
    "- Do you notice any surprising/unexpected pattern in degree-distribution plot? What does this plot reveal about limitations of collecting certain types of data on Twitter?\n",
    "\n",
    "Many people have exactly 100 people that they are following. This might be a limitation of the dataset, or be telling about the nature of the users who are represented in the dataset (i.e. bots).\n",
    "\n",
    "Some of the limitations of collecting Twitter data stems from the wide variety of users (celebrities and political figures as opposed to everyday Joes). Also, the follower restrictions on some accounts could affect data collection."
   ]
  },
  {
   "cell_type": "markdown",
   "metadata": {},
   "source": [
    "## Other Analysis\n",
    "\n",
    "- who has the most friends in this data set?\n",
    "- who has the most followers?\n",
    "- who are the people with over 10,000 friends?\n",
    "- who are the people with over 10,000 followers?\n",
    "- who are the people with over10,000 friends and 10,000 followers?\n",
    "- make up an interesting question that can be asked in the context of this data set, and answer it using the data."
   ]
  },
  {
   "cell_type": "code",
   "execution_count": null,
   "metadata": {},
   "outputs": [],
   "source": []
  }
 ],
 "metadata": {
  "kernelspec": {
   "display_name": "Python 3",
   "language": "python",
   "name": "python3"
  },
  "language_info": {
   "codemirror_mode": {
    "name": "ipython",
    "version": 3
   },
   "file_extension": ".py",
   "mimetype": "text/x-python",
   "name": "python",
   "nbconvert_exporter": "python",
   "pygments_lexer": "ipython3",
   "version": "3.6.5"
  }
 },
 "nbformat": 4,
 "nbformat_minor": 2
}

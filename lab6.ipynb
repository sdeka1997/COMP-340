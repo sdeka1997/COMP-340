{
 "cells": [
  {
   "cell_type": "markdown",
   "metadata": {},
   "source": [
    "## Automating article retrieval in medicine\n",
    "The medical literature is enormous. Pubmed, a database of medical publications maintained by the U.S. National Library of Medicine, has indexed over 23 million medical publications. Further, the rate of medical publication has increased over time, and now there are nearly 1 million new publications in the field each year, or more than one per minute.\n",
    "\n",
    "The large size and fast-changing nature of the medical literature has increased the need for automating retrievals of  papers on a particular topic from search databases like Pubmed and then reporting results from the papers found. While such paper searches are often performed manually, with multiple people reviewing each search result, this is tedious and time consuming. In this problem, we will see how text analytics can be used to automate the process of information retrieval.\n",
    "\n",
    "The dataset consists of the titles (variable title) and abstracts (variable abstract) of papers retrieved in a Pubmed search. Each search result is labeled with whether the paper is a clinical trial testing a drug therapy for cancer (variable trial). These labels were obtained by two people reviewing each search result and accessing the actual paper if necessary, as part of a literature review of clinical trials testing drug therapies for advanced and metastatic breast cancer. This data can be downloaded from the datasets folder on canvas under week6. The dataset is called clinical_trial.csv"
   ]
  },
  {
   "cell_type": "code",
   "execution_count": 1,
   "metadata": {},
   "outputs": [],
   "source": [
    "import pandas as pd\n",
    "import sklearn"
   ]
  },
  {
   "cell_type": "markdown",
   "metadata": {},
   "source": [
    "## Load the data \n",
    "- data has titles and abstracts with labels on whether papers are on a clinical trial or not"
   ]
  },
  {
   "cell_type": "code",
   "execution_count": 2,
   "metadata": {},
   "outputs": [
    {
     "data": {
      "text/html": [
       "<div>\n",
       "<style scoped>\n",
       "    .dataframe tbody tr th:only-of-type {\n",
       "        vertical-align: middle;\n",
       "    }\n",
       "\n",
       "    .dataframe tbody tr th {\n",
       "        vertical-align: top;\n",
       "    }\n",
       "\n",
       "    .dataframe thead th {\n",
       "        text-align: right;\n",
       "    }\n",
       "</style>\n",
       "<table border=\"1\" class=\"dataframe\">\n",
       "  <thead>\n",
       "    <tr style=\"text-align: right;\">\n",
       "      <th></th>\n",
       "      <th>title</th>\n",
       "      <th>abstract</th>\n",
       "      <th>trial</th>\n",
       "    </tr>\n",
       "  </thead>\n",
       "  <tbody>\n",
       "    <tr>\n",
       "      <th>0</th>\n",
       "      <td>Treatment of Hodgkin's disease and other cance...</td>\n",
       "      <td></td>\n",
       "      <td>1</td>\n",
       "    </tr>\n",
       "    <tr>\n",
       "      <th>1</th>\n",
       "      <td>Cell mediated immune status in malignancy--pre...</td>\n",
       "      <td>Twenty-eight cases of malignancies of differen...</td>\n",
       "      <td>0</td>\n",
       "    </tr>\n",
       "    <tr>\n",
       "      <th>2</th>\n",
       "      <td>Neoadjuvant vinorelbine-capecitabine versus do...</td>\n",
       "      <td>BACKGROUND: Among breast cancer patients, nonr...</td>\n",
       "      <td>1</td>\n",
       "    </tr>\n",
       "    <tr>\n",
       "      <th>3</th>\n",
       "      <td>Randomized phase 3 trial of fluorouracil, epir...</td>\n",
       "      <td>BACKGROUND: Taxanes are among the most active ...</td>\n",
       "      <td>1</td>\n",
       "    </tr>\n",
       "    <tr>\n",
       "      <th>4</th>\n",
       "      <td>Is first-line single-agent mitoxantrone in the...</td>\n",
       "      <td>BACKGROUND: To determine whether patients with...</td>\n",
       "      <td>1</td>\n",
       "    </tr>\n",
       "  </tbody>\n",
       "</table>\n",
       "</div>"
      ],
      "text/plain": [
       "                                               title  \\\n",
       "0  Treatment of Hodgkin's disease and other cance...   \n",
       "1  Cell mediated immune status in malignancy--pre...   \n",
       "2  Neoadjuvant vinorelbine-capecitabine versus do...   \n",
       "3  Randomized phase 3 trial of fluorouracil, epir...   \n",
       "4  Is first-line single-agent mitoxantrone in the...   \n",
       "\n",
       "                                            abstract  trial  \n",
       "0                                                         1  \n",
       "1  Twenty-eight cases of malignancies of differen...      0  \n",
       "2  BACKGROUND: Among breast cancer patients, nonr...      1  \n",
       "3  BACKGROUND: Taxanes are among the most active ...      1  \n",
       "4  BACKGROUND: To determine whether patients with...      1  "
      ]
     },
     "execution_count": 2,
     "metadata": {},
     "output_type": "execute_result"
    }
   ],
   "source": [
    "data = pd.read_csv('clinical_trial.csv')\n",
    "data = data.fillna('')\n",
    "data.head()"
   ]
  },
  {
   "cell_type": "markdown",
   "metadata": {},
   "source": [
    "## Exploratory data analysis\n",
    "- How many characters are there in the longest abstract? (Longest here is defined as the abstract with the largest number of characters.)\n",
    "- How many search results have no abstract? A paper has no abstract if the number of characters in the abstract field is zero.\n",
    "- Find the paper with the minimum number of characters in the title. What is the text of the title of this article? Include capitalization and punctuation in your response, but don't include the quotes."
   ]
  },
  {
   "cell_type": "code",
   "execution_count": 3,
   "metadata": {},
   "outputs": [
    {
     "name": "stdout",
     "output_type": "stream",
     "text": [
      "3708\n",
      "112\n",
      "A decade of letrozole: FACE.\n"
     ]
    }
   ],
   "source": [
    "# your code for the questions above\n",
    "# 2-3 lines of code per question\n",
    "titles = list(data.title)\n",
    "ab_len = [len(item) for item in data.abstract]\n",
    "\n",
    "#1\n",
    "print(max(ab_len))\n",
    "\n",
    "#2\n",
    "print(ab_len.count(0))\n",
    "\n",
    "#3\n",
    "print(min(titles, key=len))\n",
    "    "
   ]
  },
  {
   "cell_type": "markdown",
   "metadata": {},
   "source": [
    "## Preparing title data for textual analysis\n",
    "\n",
    "Use the CountVectorizer() feature extractor in sklearn.feature_extraction.text to build a term-document matrix for paper titles.\n",
    "\n",
    "- make an instance vec of CountVectorizer() with stop_words='english' and min_df = 0.05\n",
    "- use the fit_transform method of vec to transform the column data.title into a term document matrix tdm (of type scipy.sparse.csr.csr_matrix)\n",
    "- make a new pandas dataframe called df_title with tdm (converted to a regular numpy array using .toarray()) with columns equal to the feature names of vec (vec.get_feature_names())\n",
    "- What is the most frequent word across all the titles? Hint: you can use .sum() to compute the frequency of a word across all the titles."
   ]
  },
  {
   "cell_type": "code",
   "execution_count": 4,
   "metadata": {},
   "outputs": [
    {
     "data": {
      "text/plain": [
       "breast              1706\n",
       "cancer              1644\n",
       "patients             637\n",
       "trial                628\n",
       "chemotherapy         527\n",
       "study                495\n",
       "adjuvant             429\n",
       "phase                418\n",
       "randomized           412\n",
       "metastatic           380\n",
       "advanced             325\n",
       "treatment            319\n",
       "tamoxifen            309\n",
       "therapy              286\n",
       "ii                   279\n",
       "women                227\n",
       "versus               222\n",
       "positive             209\n",
       "group                206\n",
       "results              189\n",
       "dose                 185\n",
       "cyclophosphamide     184\n",
       "postmenopausal       176\n",
       "node                 169\n",
       "plus                 152\n",
       "high                 147\n",
       "docetaxel            139\n",
       "early                136\n",
       "doxorubicin          135\n",
       "combination          132\n",
       "clinical             131\n",
       "fluorouracil         130\n",
       "receptor             126\n",
       "iii                  125\n",
       "line                 107\n",
       "controlled           105\n",
       "response             104\n",
       "negative             102\n",
       "randomised            97\n",
       "risk                  95\n",
       "dtype: int64"
      ]
     },
     "execution_count": 4,
     "metadata": {},
     "output_type": "execute_result"
    }
   ],
   "source": [
    "# your code here\n",
    "# about 4-5 lines of code\n",
    "from sklearn.feature_extraction.text import CountVectorizer\n",
    "\n",
    "cv = CountVectorizer(stop_words='english', min_df=.05)\n",
    "\n",
    "X = cv.fit_transform(data['title'])\n",
    "df_title = pd.DataFrame(X.toarray(), columns=cv.get_feature_names())\n",
    "df_title.sum().sort_values(ascending=False)\n"
   ]
  },
  {
   "cell_type": "markdown",
   "metadata": {},
   "source": [
    "## Preparing abstract data for textual analysis\n",
    "\n",
    "Use the CountVectorizer() feature extractor in sklearn.feature_extraction.text to build a term-document matrix for paper abstracts.\n",
    "\n",
    "- make an instance vec_abs of CountVectorizer() with stop_words='english' and min_df = 0.05\n",
    "- use the fit_transform method of vec_abs to transform the column data.abstract into a term document matrix tdm_abs (of type scipy.sparse.csr.csr_matrix)\n",
    "- make a new pandas dataframe called df_abstract with tdm_abs (converted to a regular numpy array using .toarray()) with columns equal to the feature names of vec_abs (vec_abs.get_feature_names())\n",
    "- What is the most frequent word across all the abstracts? Hint: you can use .sum() to compute the frequency of a word across all the abstracts."
   ]
  },
  {
   "cell_type": "code",
   "execution_count": 5,
   "metadata": {},
   "outputs": [
    {
     "data": {
      "text/plain": [
       "patients           8078\n",
       "breast             3942\n",
       "cancer             3640\n",
       "treatment          2880\n",
       "mg                 2570\n",
       "chemotherapy       2456\n",
       "group              1922\n",
       "survival           1902\n",
       "response           1779\n",
       "tamoxifen          1712\n",
       "study              1571\n",
       "therapy            1534\n",
       "months             1521\n",
       "women              1490\n",
       "results            1375\n",
       "dose               1323\n",
       "disease            1317\n",
       "adjuvant           1194\n",
       "positive           1185\n",
       "median             1179\n",
       "years              1168\n",
       "trial              1147\n",
       "randomized         1054\n",
       "significant        1050\n",
       "treated             994\n",
       "95                  978\n",
       "overall             956\n",
       "compared            944\n",
       "significantly       903\n",
       "received            867\n",
       "                   ... \n",
       "43                  120\n",
       "studied             117\n",
       "shown               117\n",
       "endpoint            116\n",
       "improve             115\n",
       "completed           115\n",
       "77                  114\n",
       "alopecia            114\n",
       "times               113\n",
       "performance         113\n",
       "41                  113\n",
       "56                  112\n",
       "comparing           111\n",
       "defined             111\n",
       "47                  110\n",
       "analyzed            110\n",
       "57                  109\n",
       "characteristics     109\n",
       "entered             109\n",
       "potential           107\n",
       "61                  107\n",
       "statistical         106\n",
       "determined          104\n",
       "considered          104\n",
       "available           103\n",
       "54                  103\n",
       "examined            102\n",
       "66                  100\n",
       "62                  100\n",
       "69                   98\n",
       "Length: 396, dtype: int64"
      ]
     },
     "execution_count": 5,
     "metadata": {},
     "output_type": "execute_result"
    }
   ],
   "source": [
    "# your code here\n",
    "# about 4-5 lines of code\n",
    "\n",
    "abstracts = CountVectorizer(stop_words='english', min_df=.05)\n",
    "\n",
    "X = abstracts.fit_transform(data['abstract'])\n",
    "df_abstract = pd.DataFrame(X.toarray(), columns=abstracts.get_feature_names())\n",
    "df_abstract.sum().sort_values(ascending=False)"
   ]
  },
  {
   "cell_type": "markdown",
   "metadata": {},
   "source": [
    "## Convert column names in df_title and df_abstract\n",
    "- append the string 't_' to the names of columns in df_title\n",
    "- append the string 'a_' to the names of columns in df_abstract"
   ]
  },
  {
   "cell_type": "code",
   "execution_count": 8,
   "metadata": {},
   "outputs": [],
   "source": [
    "# your code here (about 2 lines)\n",
    "df_title.columns = ['t_' + x for x in df_title.columns]\n",
    "df_abstract.columns = ['a_' + x for x in df_abstract.columns]"
   ]
  },
  {
   "cell_type": "markdown",
   "metadata": {},
   "source": [
    "## Construct a new dataframe by combining df_title and df_abstract\n",
    "- concatenate the two dataframes along axis = 1\n",
    "- Then construct a 2d numpy array X with the values in this new dataframe (these are the features of the term-document model)\n",
    "- make the numpy vector y be the values in data['trial'] (the labels)"
   ]
  },
  {
   "cell_type": "code",
   "execution_count": 9,
   "metadata": {},
   "outputs": [],
   "source": [
    "import numpy as np\n",
    "matrix1 = pd.concat([df_title, df_abstract], axis=1)\n",
    "\n",
    "X = matrix1.values\n",
    "y = data['trial'].values"
   ]
  },
  {
   "cell_type": "markdown",
   "metadata": {},
   "source": [
    "## Build a decision tree with X and y\n",
    "- First split X,y into a train and test set (test size = 30%)\n",
    "- fit sklearn's DecisionTreeClassifier with max_depth of 3 on the training X and y"
   ]
  },
  {
   "cell_type": "code",
   "execution_count": 10,
   "metadata": {},
   "outputs": [
    {
     "data": {
      "text/plain": [
       "DecisionTreeClassifier(class_weight=None, criterion='gini', max_depth=3,\n",
       "            max_features=None, max_leaf_nodes=None,\n",
       "            min_impurity_decrease=0.0, min_impurity_split=None,\n",
       "            min_samples_leaf=1, min_samples_split=2,\n",
       "            min_weight_fraction_leaf=0.0, presort=False, random_state=None,\n",
       "            splitter='best')"
      ]
     },
     "execution_count": 10,
     "metadata": {},
     "output_type": "execute_result"
    }
   ],
   "source": [
    "# remember to import sklearn's model_selection, tree modules\n",
    "# about 3-4 lines of code (not counting the imports)\n",
    "from sklearn.model_selection import train_test_split\n",
    "from sklearn.tree import DecisionTreeClassifier\n",
    "\n",
    "X_train, X_test, y_train, y_test = train_test_split(X, y, test_size=0.3)\n",
    "clf = DecisionTreeClassifier(max_depth=3)\n",
    "clf.fit(X_train, y_train)"
   ]
  },
  {
   "cell_type": "markdown",
   "metadata": {},
   "source": [
    "## Visualize the constructed decision tree using graphviz\n",
    "- see the dtrees.ipynb notebook for an example\n",
    "- which feature is at the root of the decision tree?"
   ]
  },
  {
   "cell_type": "code",
   "execution_count": 17,
   "metadata": {},
   "outputs": [
    {
     "ename": "AttributeError",
     "evalue": "'function' object has no attribute 'Source'",
     "output_type": "error",
     "traceback": [
      "\u001b[0;31m---------------------------------------------------------------------------\u001b[0m",
      "\u001b[0;31mAttributeError\u001b[0m                            Traceback (most recent call last)",
      "\u001b[0;32m<ipython-input-17-85905d09cde7>\u001b[0m in \u001b[0;36m<module>\u001b[0;34m()\u001b[0m\n\u001b[1;32m      3\u001b[0m \u001b[0;34m\u001b[0m\u001b[0m\n\u001b[1;32m      4\u001b[0m \u001b[0mdot_data\u001b[0m \u001b[0;34m=\u001b[0m \u001b[0msklearn\u001b[0m\u001b[0;34m.\u001b[0m\u001b[0mtree\u001b[0m\u001b[0;34m.\u001b[0m\u001b[0mexport_graphviz\u001b[0m\u001b[0;34m(\u001b[0m\u001b[0mclf\u001b[0m\u001b[0;34m,\u001b[0m \u001b[0mout_file\u001b[0m\u001b[0;34m=\u001b[0m\u001b[0;32mNone\u001b[0m\u001b[0;34m,\u001b[0m \u001b[0mfeature_names\u001b[0m\u001b[0;34m=\u001b[0m\u001b[0mmatrix1\u001b[0m\u001b[0;34m.\u001b[0m\u001b[0mcolumns\u001b[0m\u001b[0;34m,\u001b[0m \u001b[0mfilled\u001b[0m\u001b[0;34m=\u001b[0m\u001b[0;32mTrue\u001b[0m\u001b[0;34m,\u001b[0m \u001b[0mrounded\u001b[0m\u001b[0;34m=\u001b[0m\u001b[0;32mTrue\u001b[0m\u001b[0;34m,\u001b[0m \u001b[0mspecial_characters\u001b[0m\u001b[0;34m=\u001b[0m\u001b[0;32mTrue\u001b[0m\u001b[0;34m)\u001b[0m\u001b[0;34m\u001b[0m\u001b[0m\n\u001b[0;32m----> 5\u001b[0;31m \u001b[0mgraph\u001b[0m \u001b[0;34m=\u001b[0m \u001b[0mgraphviz\u001b[0m\u001b[0;34m.\u001b[0m\u001b[0mSource\u001b[0m\u001b[0;34m(\u001b[0m\u001b[0mdot_data\u001b[0m\u001b[0;34m)\u001b[0m\u001b[0;34m\u001b[0m\u001b[0m\n\u001b[0m\u001b[1;32m      6\u001b[0m \u001b[0mgraph\u001b[0m\u001b[0;34m\u001b[0m\u001b[0m\n",
      "\u001b[0;31mAttributeError\u001b[0m: 'function' object has no attribute 'Source'"
     ]
    }
   ],
   "source": [
    "# your viz code here\n",
    "from graphviz\n",
    "\n",
    "dot_data = sklearn.tree.export_graphviz(clf, out_file=None, feature_names=matrix1.columns, filled=True, rounded=True, special_characters=True)\n",
    "graph = graphviz.Source(dot_data)  \n",
    "graph"
   ]
  },
  {
   "cell_type": "markdown",
   "metadata": {},
   "source": [
    "## Evaluate performance of learned decision tree on the training X and y\n",
    "- calculate confusion matrix with training set\n",
    "- calculate specificity and sensitivity on training set\n",
    "- calculate training set AUC\n",
    "- use .predict() and .predict_proba() on the classifier to predict labels and to predict probabilities of the two classes"
   ]
  },
  {
   "cell_type": "code",
   "execution_count": 18,
   "metadata": {},
   "outputs": [
    {
     "name": "stdout",
     "output_type": "stream",
     "text": [
      "[[637  93]\n",
      " [203 369]]\n",
      "Training set accuracy: 0.7726574500768049\n",
      "Specificity: 0.8726027397260274\n",
      "Sensitivity: 0.6451048951048951\n",
      "Training AUC: 0.8292640578599484\n"
     ]
    }
   ],
   "source": [
    "# 8-10 lines of code here using sklearn metrics functions\n",
    "from sklearn.metrics import confusion_matrix\n",
    "from sklearn.metrics import accuracy_score\n",
    "from sklearn.metrics import roc_auc_score\n",
    "\n",
    "y_pred_dis = clf.predict(X_train)\n",
    "y_pred = clf.predict_proba(X_train)\n",
    "\n",
    "print(confusion_matrix(y_train, y_pred_dis))\n",
    "print ('Training set accuracy: ' + str(accuracy_score(y_train, y_pred_dis)))\n",
    "\n",
    "tn1, fp1, fn1, tp1 = confusion_matrix(y_train, y_pred_dis).ravel()\n",
    "spec1 = tn1 / (tn1 + fp1)\n",
    "sens1 = tp1 / (tp1 + fn1)\n",
    "\n",
    "print ('Specificity: ' + str(spec1))\n",
    "print ('Sensitivity: ' + str(sens1))\n",
    "print ('Training AUC: ' + str(roc_auc_score(y_train, y_pred[:,1])))"
   ]
  },
  {
   "cell_type": "markdown",
   "metadata": {},
   "source": [
    "## Evaluate performance of learned decision tree on the set aside test X and y\n",
    "- calculate confusion matrix with training set\n",
    "- calculate specificity and sensitivity on training set\n",
    "- calculate training set AUC\n",
    "- use .predict() and .predict_proba() on the classifier to predict labels and to predict probabilities of the two classes"
   ]
  },
  {
   "cell_type": "code",
   "execution_count": 19,
   "metadata": {},
   "outputs": [
    {
     "name": "stdout",
     "output_type": "stream",
     "text": [
      "[[273  40]\n",
      " [ 95 150]]\n",
      "Training set acc0.7580645161290323\n",
      "Specificity: 0.8722044728434505\n",
      "Sensitivity: 0.6122448979591837\n",
      "Test AUC: 0.8275542804981416\n"
     ]
    }
   ],
   "source": [
    "# 8-10 lines of code here using sklearn metrics functions\n",
    "y_pred_dis = clf.predict(X_test)\n",
    "y_pred = clf.predict_proba(X_test)\n",
    "\n",
    "print(confusion_matrix(y_test, y_pred_dis))\n",
    "print ('Training set acc' + str(accuracy_score(y_test, y_pred_dis)))\n",
    "\n",
    "tn2, fp2, fn2, tp2 = confusion_matrix(y_test, y_pred_dis).ravel()\n",
    "spec2 = tn2 / (tn2 + fp2)\n",
    "sens2 = tp2 / (tp2 + fn2)\n",
    "\n",
    "print ('Specificity: ' + str(spec2))\n",
    "print ('Sensitivity: ' + str(sens2))\n",
    "print ('Test AUC: ' + str(roc_auc_score(y_test, y_pred[:,1])))"
   ]
  },
  {
   "cell_type": "markdown",
   "metadata": {},
   "source": [
    "## Vary max_depth in your classifier definition \n",
    "- Describe the impact on classifier performance in the training and the test set.\n",
    "- test out depths from 1 to 10 and compute training set AUC and test set AUC for each tree with a 70/30 train/test split\n",
    "- plot depth on x-axis and AUC on y-axis for both training and test set\n",
    "- to what depth should you grow a tree for this problem?"
   ]
  },
  {
   "cell_type": "code",
   "execution_count": 20,
   "metadata": {},
   "outputs": [],
   "source": [
    "# your code here varying classifier depth\n",
    "# about 14-15 lines of code\n",
    "import numpy as np\n",
    "depthData = pd.DataFrame(columns=['trainAUC', 'testAUC'])\n",
    "\n",
    "depths = np.arange(1,11)\n",
    "trainAUCs = []\n",
    "testAUCs = []\n",
    "X_train, X_test, y_train, y_test = train_test_split(X, y, test_size=0.3)\n",
    "\n",
    "for depth in depths:\n",
    "    clf = DecisionTreeClassifier(max_depth=depth)\n",
    "    clf.fit(X_train, y_train)\n",
    "    y_predTest = clf.predict_proba(X_test)\n",
    "    y_predTrain = clf.predict_proba(X_train)\n",
    "    depthData.at[depth,'trainAUC'] = roc_auc_score(y_train, y_predTrain[:,1])\n",
    "    depthData.at[depth,'testAUC'] = roc_auc_score(y_test, y_predTest[:,1])\n",
    "\n",
    "    \n",
    "    \n",
    "    \n",
    "#     trainAUCs.append(roc_auc_score(y_train, ypredTrain[:,1]))\n",
    "#     testAUCs.append(roc_auc_score(y_test, ypredTest[:,1]))\n"
   ]
  },
  {
   "cell_type": "code",
   "execution_count": 24,
   "metadata": {},
   "outputs": [
    {
     "data": {
      "text/plain": [
       "<matplotlib.axes._subplots.AxesSubplot at 0x1a1750b6d8>"
      ]
     },
     "execution_count": 24,
     "metadata": {},
     "output_type": "execute_result"
    },
    {
     "data": {
      "image/png": "[encoded data removed]",
      "text/plain": [
       "<Figure size 432x288 with 1 Axes>"
      ]
     },
     "metadata": {},
     "output_type": "display_data"
    }
   ],
   "source": [
    "depthData.plot(use_index=True)\n"
   ]
  },
  {
   "cell_type": "markdown",
   "metadata": {},
   "source": [
    "## Understanding the impact of false positives and false negatives in the prediction process\n",
    "\n",
    " \n",
    "A researcher searching for relevant papers on clinical trials in the medical literature would use a model like the one we built above, in the following workflow:\n",
    "\n",
    "1) For all of the papers retrieved in a keyword-based PubMed Search, predict which papers are clinical trials using our model. This yields some initial Set A of papers predicted to be trials, and some Set B of papers predicted not to be trials. \n",
    "\n",
    "2) Then, the researcher manually reviews all papers in Set A, verifying that each paper meets the inclusion criteria (for the purposes of this analysis, we assume this manual review is 100% accurate at identifying whether a paper in Set A is a relevant paper on clinical trials). This yields a more limited set of papers to be analyzed further, which would ideally be all papers in the medical literature meeting the relevance criteria (be about a clinical trial in breast cancer).\n",
    "\n",
    "3) Perform the required analysis, using data extracted from the limited set of papers identified in step 2.\n",
    "\n",
    "Now pick the best choice for the three questions below."
   ]
  },
  {
   "cell_type": "markdown",
   "metadata": {},
   "source": [
    "## Question 1\n",
    "What is the cost associated with the model in Step 1 making a false negative prediction?\n",
    "\n",
    "- A: A paper will be mistakenly added to Set A, yielding additional work in Step 2 of the process but not affecting the quality of the results of Step 3.\n",
    "- B: A paper will be mistakenly added to Set A, definitely affecting the quality of the results of Step 3.\n",
    "- #### C: A paper that should have been included in Set A will be missed, affecting the quality of the results of Step 3. \n",
    "- D: There is no cost associated with a false negative prediction.\n"
   ]
  },
  {
   "cell_type": "markdown",
   "metadata": {},
   "source": [
    "## Question 2\n",
    "What is the cost associated with the model in Step 1 making a false positive prediction?\n",
    "\n",
    "- #### A: A paper will be mistakenly added to Set A, yielding additional work in Step 2 of the process but not affecting the quality of the results of Step 3. \n",
    "- B: A paper will be mistakenly added to Set A, definitely affecting the quality of the results of Step 3.\n",
    "- C: A paper that should have been included in Set A will be missed, affecting the quality of the results of Step 3.\n",
    "- D: There is no cost associated with a false positive prediction.\n"
   ]
  },
  {
   "cell_type": "markdown",
   "metadata": {},
   "source": [
    "## Question 3\n",
    "Given the costs associated with false positives and false negatives, which of the following is most accurate?\n",
    "\n",
    "\n",
    "- A: A false positive is more costly than a false negative; the decision maker should use a probability threshold greater than 0.5 for the machine learning model.\n",
    "- B: A false positive is more costly than a false negative; the decision maker should use a probability threshold less than 0.5 for the machine learning model.\n",
    "- C: A false negative is more costly than a false positive; the decision maker should use a probability threshold greater than 0.5 for the machine learning model.\n",
    "- #### D: A false negative is more costly than a false positive; the decision maker should use a probability threshold less than 0.5 for the machine learning model. "
   ]
  },
  {
   "cell_type": "code",
   "execution_count": null,
   "metadata": {},
   "outputs": [],
   "source": []
  }
 ],
 "metadata": {
  "kernelspec": {
   "display_name": "Python 3",
   "language": "python",
   "name": "python3"
  },
  "language_info": {
   "codemirror_mode": {
    "name": "ipython",
    "version": 3
   },
   "file_extension": ".py",
   "mimetype": "text/x-python",
   "name": "python",
   "nbconvert_exporter": "python",
   "pygments_lexer": "ipython3",
   "version": "3.6.5"
  }
 },
 "nbformat": 4,
 "nbformat_minor": 2
}

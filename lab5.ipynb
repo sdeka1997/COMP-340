{
 "cells": [
  {
   "cell_type": "markdown",
   "metadata": {},
   "source": [
    "## Predicting popularity of records\n",
    "The music industry has a well-developed market with a global annual revenue around $15 billion. The recording industry is highly competitive and is dominated by three big production companies which make up nearly 82\\% of the total annual album sales. \n",
    "\n",
    "Artists are at the core of the music industry and record labels provide them with the necessary resources to sell their music on a large scale. A record label incurs numerous costs (studio recording, marketing, distribution, and touring) in exchange for a percentage of the profits from album sales, singles and concert tickets.\n",
    "\n",
    "Unfortunately, the success of an artist's release is highly uncertain: a single may be extremely popular, resulting in widespread radio play and digital downloads, while another single may turn out quite unpopular, and therefore unprofitable. \n",
    "\n",
    "Knowing the competitive nature of the recording industry, record labels face the fundamental decision problem of which musical releases to support to maximize their financial success. \n",
    "\n",
    "How can we use analytics to predict the popularity of a song? In this assignment, we challenge ourselves to predict whether a song will reach a spot in the Top 10 of the Billboard Hot 100 Chart.\n",
    "\n",
    "Taking an analytics approach, we aim to use information about a song's properties to predict its popularity. The dataset songs.csv consists of all songs which made it to the Top 10 of the Billboard Hot 100 Chart from 1990-2010 plus a sample of additional songs that didn't make the Top 10. This data comes from three sources: Wikipedia, Billboard.com, and EchoNest.\n",
    "\n",
    "The variables included in the dataset either describe the artist or the song, or they are associated with the following song attributes: time signature, loudness, key, pitch, tempo, and timbre.\n",
    "\n",
    "Here's a detailed description of the variables:\n",
    "\n",
    "- year = the year the song was released\n",
    "- songtitle = the title of the song\n",
    "- artistname = the name of the artist of the song\n",
    "- songID and artistID = identifying variables for the song and artist\n",
    "- timesignature and timesignature_confidence = a variable estimating the time signature of the song, and the confidence in the estimate\n",
    "- loudness = a continuous variable indicating the average amplitude of the audio in decibels\n",
    "- tempo and tempo_confidence = a variable indicating the estimated beats per minute of the song, and the confidence in the estimate\n",
    "- key and key_confidence = a variable with twelve levels indicating the estimated key of the song (C, C#, . . ., B), and the confidence in the estimate\n",
    "- energy = a variable that represents the overall acoustic energy of the song, using a mix of features such as loudness\n",
    "- pitch = a continuous variable that indicates the pitch of the song\n",
    "- timbre_0_min, timbre_0_max, timbre_1_min, timbre_1_max, . . . , timbre_11_min, and timbre_11_max = variables that indicate the minimum/maximum values over all segments for each of the twelve values in the timbre vector (resulting in 24 continuous variables)\n",
    "- Top10 = a binary variable indicating whether or not the song made it to the Top 10 of the Billboard Hot 100 Chart (1 if it was in the top 10, and 0 if it was not)"
   ]
  },
  {
   "cell_type": "code",
   "execution_count": 1,
   "metadata": {},
   "outputs": [],
   "source": [
    "import pandas as pd\n",
    "import random\n",
    "import numpy as np\n",
    "import matplotlib.pyplot as plt\n",
    "\n",
    "# This is a bit of magic to make matplotlib figures appear inline in the notebook\n",
    "# rather than in a new window.\n",
    "%matplotlib inline\n",
    "plt.rcParams['figure.figsize'] = (15.0, 10.0) # set default size of plots\n",
    "plt.rcParams['image.interpolation'] = 'nearest'\n",
    "plt.rcParams['image.cmap'] = 'gray'\n",
    "\n",
    "# Some more magic so that the notebook will reload external python modules;\n",
    "# see http://stackoverflow.com/questions/1907993/autoreload-of-modules-in-ipython\n",
    "%load_ext autoreload\n",
    "%autoreload 2"
   ]
  },
  {
   "cell_type": "markdown",
   "metadata": {},
   "source": [
    "## Read songs.csv\n",
    "- This file is available on Canvas at Files/week5"
   ]
  },
  {
   "cell_type": "code",
   "execution_count": 2,
   "metadata": {},
   "outputs": [
    {
     "name": "stdout",
     "output_type": "stream",
     "text": [
      "(7574, 39)\n"
     ]
    },
    {
     "data": {
      "text/html": [
       "<div>\n",
       "<style scoped>\n",
       "    .dataframe tbody tr th:only-of-type {\n",
       "        vertical-align: middle;\n",
       "    }\n",
       "\n",
       "    .dataframe tbody tr th {\n",
       "        vertical-align: top;\n",
       "    }\n",
       "\n",
       "    .dataframe thead th {\n",
       "        text-align: right;\n",
       "    }\n",
       "</style>\n",
       "<table border=\"1\" class=\"dataframe\">\n",
       "  <thead>\n",
       "    <tr style=\"text-align: right;\">\n",
       "      <th></th>\n",
       "      <th>year</th>\n",
       "      <th>songtitle</th>\n",
       "      <th>artistname</th>\n",
       "      <th>songID</th>\n",
       "      <th>artistID</th>\n",
       "      <th>timesignature</th>\n",
       "      <th>timesignature_confidence</th>\n",
       "      <th>loudness</th>\n",
       "      <th>tempo</th>\n",
       "      <th>tempo_confidence</th>\n",
       "      <th>...</th>\n",
       "      <th>timbre_7_max</th>\n",
       "      <th>timbre_8_min</th>\n",
       "      <th>timbre_8_max</th>\n",
       "      <th>timbre_9_min</th>\n",
       "      <th>timbre_9_max</th>\n",
       "      <th>timbre_10_min</th>\n",
       "      <th>timbre_10_max</th>\n",
       "      <th>timbre_11_min</th>\n",
       "      <th>timbre_11_max</th>\n",
       "      <th>Top10</th>\n",
       "    </tr>\n",
       "  </thead>\n",
       "  <tbody>\n",
       "    <tr>\n",
       "      <th>0</th>\n",
       "      <td>2010</td>\n",
       "      <td>This Is the House That Doubt Built</td>\n",
       "      <td>A Day to Remember</td>\n",
       "      <td>SOBGGAB12C5664F054</td>\n",
       "      <td>AROBSHL1187B9AFB01</td>\n",
       "      <td>3</td>\n",
       "      <td>0.853</td>\n",
       "      <td>-4.262</td>\n",
       "      <td>91.525</td>\n",
       "      <td>0.953</td>\n",
       "      <td>...</td>\n",
       "      <td>82.475</td>\n",
       "      <td>-52.025</td>\n",
       "      <td>39.116</td>\n",
       "      <td>-35.368</td>\n",
       "      <td>71.642</td>\n",
       "      <td>-126.440</td>\n",
       "      <td>18.658</td>\n",
       "      <td>-44.770</td>\n",
       "      <td>25.989</td>\n",
       "      <td>0</td>\n",
       "    </tr>\n",
       "    <tr>\n",
       "      <th>1</th>\n",
       "      <td>2010</td>\n",
       "      <td>Sticks &amp; Bricks</td>\n",
       "      <td>A Day to Remember</td>\n",
       "      <td>SOPAQHU1315CD47F31</td>\n",
       "      <td>AROBSHL1187B9AFB01</td>\n",
       "      <td>4</td>\n",
       "      <td>1.000</td>\n",
       "      <td>-4.051</td>\n",
       "      <td>140.048</td>\n",
       "      <td>0.921</td>\n",
       "      <td>...</td>\n",
       "      <td>106.918</td>\n",
       "      <td>-61.320</td>\n",
       "      <td>35.378</td>\n",
       "      <td>-81.928</td>\n",
       "      <td>74.574</td>\n",
       "      <td>-103.808</td>\n",
       "      <td>121.935</td>\n",
       "      <td>-38.892</td>\n",
       "      <td>22.513</td>\n",
       "      <td>0</td>\n",
       "    </tr>\n",
       "    <tr>\n",
       "      <th>2</th>\n",
       "      <td>2010</td>\n",
       "      <td>All I Want</td>\n",
       "      <td>A Day to Remember</td>\n",
       "      <td>SOOIZOU1376E7C6386</td>\n",
       "      <td>AROBSHL1187B9AFB01</td>\n",
       "      <td>4</td>\n",
       "      <td>1.000</td>\n",
       "      <td>-3.571</td>\n",
       "      <td>160.512</td>\n",
       "      <td>0.489</td>\n",
       "      <td>...</td>\n",
       "      <td>80.621</td>\n",
       "      <td>-59.773</td>\n",
       "      <td>45.979</td>\n",
       "      <td>-46.293</td>\n",
       "      <td>59.904</td>\n",
       "      <td>-108.313</td>\n",
       "      <td>33.300</td>\n",
       "      <td>-43.733</td>\n",
       "      <td>25.744</td>\n",
       "      <td>0</td>\n",
       "    </tr>\n",
       "    <tr>\n",
       "      <th>3</th>\n",
       "      <td>2010</td>\n",
       "      <td>It's Complicated</td>\n",
       "      <td>A Day to Remember</td>\n",
       "      <td>SODRYWD1315CD49DBE</td>\n",
       "      <td>AROBSHL1187B9AFB01</td>\n",
       "      <td>4</td>\n",
       "      <td>1.000</td>\n",
       "      <td>-3.815</td>\n",
       "      <td>97.525</td>\n",
       "      <td>0.794</td>\n",
       "      <td>...</td>\n",
       "      <td>96.675</td>\n",
       "      <td>-78.660</td>\n",
       "      <td>41.088</td>\n",
       "      <td>-49.194</td>\n",
       "      <td>95.440</td>\n",
       "      <td>-102.676</td>\n",
       "      <td>46.422</td>\n",
       "      <td>-59.439</td>\n",
       "      <td>37.082</td>\n",
       "      <td>0</td>\n",
       "    </tr>\n",
       "    <tr>\n",
       "      <th>4</th>\n",
       "      <td>2010</td>\n",
       "      <td>2nd Sucks</td>\n",
       "      <td>A Day to Remember</td>\n",
       "      <td>SOICMQB1315CD46EE3</td>\n",
       "      <td>AROBSHL1187B9AFB01</td>\n",
       "      <td>4</td>\n",
       "      <td>0.788</td>\n",
       "      <td>-4.707</td>\n",
       "      <td>140.053</td>\n",
       "      <td>0.286</td>\n",
       "      <td>...</td>\n",
       "      <td>110.332</td>\n",
       "      <td>-56.450</td>\n",
       "      <td>37.555</td>\n",
       "      <td>-48.588</td>\n",
       "      <td>67.570</td>\n",
       "      <td>-52.796</td>\n",
       "      <td>22.888</td>\n",
       "      <td>-50.414</td>\n",
       "      <td>32.758</td>\n",
       "      <td>0</td>\n",
       "    </tr>\n",
       "  </tbody>\n",
       "</table>\n",
       "<p>5 rows × 39 columns</p>\n",
       "</div>"
      ],
      "text/plain": [
       "   year                           songtitle         artistname  \\\n",
       "0  2010  This Is the House That Doubt Built  A Day to Remember   \n",
       "1  2010                     Sticks & Bricks  A Day to Remember   \n",
       "2  2010                          All I Want  A Day to Remember   \n",
       "3  2010                    It's Complicated  A Day to Remember   \n",
       "4  2010                           2nd Sucks  A Day to Remember   \n",
       "\n",
       "               songID            artistID  timesignature  \\\n",
       "0  SOBGGAB12C5664F054  AROBSHL1187B9AFB01              3   \n",
       "1  SOPAQHU1315CD47F31  AROBSHL1187B9AFB01              4   \n",
       "2  SOOIZOU1376E7C6386  AROBSHL1187B9AFB01              4   \n",
       "3  SODRYWD1315CD49DBE  AROBSHL1187B9AFB01              4   \n",
       "4  SOICMQB1315CD46EE3  AROBSHL1187B9AFB01              4   \n",
       "\n",
       "   timesignature_confidence  loudness    tempo  tempo_confidence  ...    \\\n",
       "0                     0.853    -4.262   91.525             0.953  ...     \n",
       "1                     1.000    -4.051  140.048             0.921  ...     \n",
       "2                     1.000    -3.571  160.512             0.489  ...     \n",
       "3                     1.000    -3.815   97.525             0.794  ...     \n",
       "4                     0.788    -4.707  140.053             0.286  ...     \n",
       "\n",
       "   timbre_7_max  timbre_8_min  timbre_8_max  timbre_9_min  timbre_9_max  \\\n",
       "0        82.475       -52.025        39.116       -35.368        71.642   \n",
       "1       106.918       -61.320        35.378       -81.928        74.574   \n",
       "2        80.621       -59.773        45.979       -46.293        59.904   \n",
       "3        96.675       -78.660        41.088       -49.194        95.440   \n",
       "4       110.332       -56.450        37.555       -48.588        67.570   \n",
       "\n",
       "   timbre_10_min  timbre_10_max  timbre_11_min  timbre_11_max  Top10  \n",
       "0       -126.440         18.658        -44.770         25.989      0  \n",
       "1       -103.808        121.935        -38.892         22.513      0  \n",
       "2       -108.313         33.300        -43.733         25.744      0  \n",
       "3       -102.676         46.422        -59.439         37.082      0  \n",
       "4        -52.796         22.888        -50.414         32.758      0  \n",
       "\n",
       "[5 rows x 39 columns]"
      ]
     },
     "execution_count": 2,
     "metadata": {},
     "output_type": "execute_result"
    }
   ],
   "source": [
    "data = pd.read_csv('songs.csv',encoding='latin-1')\n",
    "print(data.shape)\n",
    "data.head()"
   ]
  },
  {
   "cell_type": "markdown",
   "metadata": {},
   "source": [
    "## Data cleaning \n",
    "- check each column of the data and make sure that the values make sense.\n",
    "- identify outliers (if any) and mistakes in the data (if any)"
   ]
  },
  {
   "cell_type": "code",
   "execution_count": 3,
   "metadata": {},
   "outputs": [],
   "source": [
    "# data cleaning code here\n",
    "clean = data\n",
    "#Data seems to have no significant outliers or glaring mistakes"
   ]
  },
  {
   "cell_type": "markdown",
   "metadata": {},
   "source": [
    "## Explore the data\n",
    "\n",
    "- How many songs from 2010 are in the dataset?\n",
    "- How many songs in the dataset are by Michael Jackson?\n",
    "- Which of the songs by Michael Jackson made it to the top 10?\n",
    "- Plot a histogram of the number of song releases by year.\n",
    "- Plot the distribution of time signatures of the songs in our dataset.\n",
    "- Plot the distribution of time signature confidence of the songs in the dataset.\n",
    "- Which song(s) have the highest tempo?\n",
    "- What is the distribution of loudness?\n",
    "- What is the distribution of energy?"
   ]
  },
  {
   "cell_type": "code",
   "execution_count": 4,
   "metadata": {},
   "outputs": [
    {
     "name": "stdout",
     "output_type": "stream",
     "text": [
      "373\n",
      "18\n",
      "['You Rock My World', 'You Are Not Alone', 'Black or White', 'Remember the Time', 'In The Closet']\n"
     ]
    },
    {
     "data": {
      "image/png": "[encoded data removed]",
      "text/plain": [
       "<Figure size 432x288 with 1 Axes>"
      ]
     },
     "metadata": {},
     "output_type": "display_data"
    },
    {
     "data": {
      "image/png": "[encoded data removed]",
      "text/plain": [
       "<Figure size 432x288 with 1 Axes>"
      ]
     },
     "metadata": {},
     "output_type": "display_data"
    },
    {
     "data": {
      "image/png": "[encoded data removed]",
      "text/plain": [
       "<Figure size 432x288 with 1 Axes>"
      ]
     },
     "metadata": {},
     "output_type": "display_data"
    },
    {
     "name": "stdout",
     "output_type": "stream",
     "text": [
      "[\"Wanna Be Startin' Somethin'\", 'Zodijackyl Light', \"You're a Fucking Bastard\", 'Relentless', 'The Chainheart Machine']\n"
     ]
    },
    {
     "data": {
      "image/png": "[encoded data removed]",
      "text/plain": [
       "<Figure size 432x288 with 1 Axes>"
      ]
     },
     "metadata": {},
     "output_type": "display_data"
    },
    {
     "data": {
      "image/png": "[encoded data removed]",
      "text/plain": [
       "<Figure size 432x288 with 1 Axes>"
      ]
     },
     "metadata": {},
     "output_type": "display_data"
    }
   ],
   "source": [
    "# your EDA code here\n",
    "#1\n",
    "print(clean[clean['year'] == 2010].year.count())\n",
    "\n",
    "#2\n",
    "print(clean[clean['artistname'] == 'Michael Jackson'].artistname.count())\n",
    "\n",
    "#3\n",
    "mj = clean[clean['artistname'] == 'Michael Jackson']\n",
    "mjtop10 = mj[mj['Top10'] == 1]\n",
    "print(list(mjtop10['songtitle']))\n",
    "\n",
    "#4\n",
    "clean['year'].value_counts().sort_index().plot(kind='bar')\n",
    "plt.show()\n",
    "\n",
    "#5\n",
    "clean['timesignature'].value_counts().sort_index().plot(kind='bar')\n",
    "plt.show()\n",
    "\n",
    "#6\n",
    "clean['timesignature_confidence'].plot(kind='hist')\n",
    "plt.show()\n",
    "\n",
    "#7\n",
    "tempo = clean.sort_values(by=['tempo'], ascending = False)\n",
    "print(list(tempo.head()['songtitle']))\n",
    "\n",
    "#8\n",
    "clean['loudness'].plot(kind='hist')\n",
    "plt.show()\n",
    "\n",
    "#9\n",
    "clean['energy'].plot(kind='hist')\n",
    "plt.show()\n"
   ]
  },
  {
   "cell_type": "markdown",
   "metadata": {},
   "source": [
    "## Creating the training/test sets\n",
    "\n",
    "We wish to predict whether or not a song will make it to the Top 10. To do this, first split the data into a training set \"SongsTrain\" consisting of all the observations up to and including 2009 song releases, and a testing set \"SongsTest\", consisting of the 2010 song releases.\n",
    "\n",
    "How many observations (songs) are in the training set? How many songs in the test set?"
   ]
  },
  {
   "cell_type": "code",
   "execution_count": 5,
   "metadata": {},
   "outputs": [
    {
     "name": "stdout",
     "output_type": "stream",
     "text": [
      "Training Set: 7201 Test Set: 373\n"
     ]
    }
   ],
   "source": [
    "# you train/test set creation code\n",
    "SongsTrain = clean[clean['year'] < 2010]\n",
    "SongsTest = clean[clean['year'] == 2010]\n",
    "print('Training Set:', len(SongsTrain), 'Test Set:', len(SongsTest))"
   ]
  },
  {
   "cell_type": "markdown",
   "metadata": {},
   "source": [
    "## Creating a prediction model\n",
    "\n",
    "In this problem, our outcome variable is \"Top10\" - we are trying to predict whether or not a song will make it to the Top 10 of the Billboard Hot 100 Chart. Since the outcome variable is binary, we will build a logistic regression model. We'll start by using all song attributes as our independent variables, which we'll call Model1.\n",
    "\n",
    "We will only use the variables in our dataset that describe the numerical attributes of the song in our logistic regression model. So we won't use the variables \"year\", \"songtitle\", \"artistname\", \"songID\" or \"artistID\".\n",
    "\n",
    "Now, use sklearn's logistic regression model with L2 penalty to predict Top10 using all of the other variables as the independent variables. You should use SongsTrain (without the five variables above) to build the model. Test the model on SongsTest, also without the five variables named above. In particular, print the confusion matrix on the test set. Interpret this matrix."
   ]
  },
  {
   "cell_type": "code",
   "execution_count": 6,
   "metadata": {},
   "outputs": [
    {
     "data": {
      "image/png": "[encoded data removed]",
      "text/plain": [
       "<Figure size 432x288 with 1 Axes>"
      ]
     },
     "metadata": {},
     "output_type": "display_data"
    },
    {
     "name": "stdout",
     "output_type": "stream",
     "text": [
      "Theta found by sklearn:  [[-2.19142558e-03  1.24318177e-03  3.37024127e-02 -3.10412765e-03\n",
      "   2.24105232e-03  3.37755199e-03  5.07560657e-04 -1.93804135e-03\n",
      "  -1.94955596e-04  1.75753122e-02 -9.83442422e-02  6.05722420e-03\n",
      "  -1.26269907e-03 -4.86055328e-03  6.15833907e-05  1.08915269e-03\n",
      "  -3.06926803e-03  8.00161740e-03  7.14607276e-03 -6.40535581e-03\n",
      "   8.20297215e-04 -1.54740979e-02  5.74438187e-03 -6.61714699e-03\n",
      "  -3.65088291e-03  4.54244550e-03  5.53535195e-03  7.14496840e-04\n",
      "   4.26543443e-03  4.10724400e-03  5.90148967e-03 -2.41901528e-02\n",
      "   1.26399452e-02]] [-0.00251157]\n",
      "Accuracy on the training set =  0.8586307457297597\n",
      "[[313   1]\n",
      " [ 51   8]]\n"
     ]
    }
   ],
   "source": [
    "# your model construction code here\n",
    "SongsTrain_ = SongsTrain.drop(columns=[\"year\", \"songtitle\", \"artistname\", \"songID\", \"artistID\"])\n",
    "SongsTest_ = SongsTest.drop(columns=[\"year\", \"songtitle\", \"artistname\", \"songID\", \"artistID\"])\n",
    "\n",
    "import sklearn\n",
    "from sklearn import linear_model\n",
    "from sklearn.preprocessing import PolynomialFeatures\n",
    "from sklearn.pipeline import Pipeline\n",
    "from sklearn.model_selection import cross_val_score\n",
    "from sklearn.model_selection import learning_curve\n",
    "from sklearn.model_selection import KFold\n",
    "from sklearn.model_selection import GridSearchCV\n",
    "\n",
    "X = SongsTrain_.drop(columns=['Top10'])\n",
    "y = SongsTrain_.Top10\n",
    "test = SongsTest_.drop(columns=['Top10'])\n",
    "\n",
    "\n",
    "alpha_list = np.logspace(-10, 5, 15)\n",
    "score_list = []\n",
    "\n",
    "for alpha in alpha_list:\n",
    "    logreg = linear_model.LogisticRegression(C=1.0/alpha,solver='lbfgs',fit_intercept=True)\n",
    "    logreg.fit(X, y)\n",
    "    score = cross_val_score(logreg, X, y,\n",
    "                             scoring='accuracy', cv=10)\n",
    "    score_list.append(np.mean(score))\n",
    "\n",
    "score_dict = zip(alpha_list, score_list)\n",
    "best_alpha = max(score_dict,key=lambda item:item[1])\n",
    "plt.semilogx(alpha_list,score_list)\n",
    "plt.xlabel('alpha')\n",
    "plt.ylabel('Accuracy')\n",
    "plt.show()\n",
    "\n",
    "\n",
    "alpha = best_alpha[0]\n",
    "\n",
    "logreg = linear_model.LogisticRegression(C=1.0/alpha,solver='lbfgs',fit_intercept=True)\n",
    "logreg.fit(X,y)\n",
    "print(\"Theta found by sklearn: \", logreg.coef_, logreg.intercept_)\n",
    "\n",
    "\n",
    "# compute accuracy on the training set\n",
    "predy = logreg.predict(X)\n",
    "# calculate the accuracy of predictions on training set \n",
    "accuracy = np.mean(predy==y)\n",
    "print(\"Accuracy on the training set = \", accuracy)\n",
    "\n",
    "\n",
    "coef_x = SongsTest_.Top10\n",
    "coef_y = logreg.predict(test)\n",
    "from sklearn.metrics import confusion_matrix\n",
    "confusion_matrix = confusion_matrix(coef_x, coef_y)\n",
    "tn, fp, fn, tp = confusion_matrix.ravel()\n",
    "print(confusion_matrix)"
   ]
  },
  {
   "cell_type": "markdown",
   "metadata": {},
   "source": [
    "## Examining the learned model\n",
    "Look at the coefficients of the learned model, Model1. Plot them as a bar plot with names of the features on x-axis and coefficient value on the y axis\n",
    "\n",
    "- Which variables are most predictive of Top 10ness of a song?\n",
    "###### Loundess and Timbre_0_max\n",
    "\n",
    "- In general, if the confidence is low for the time signature, tempo, and key, then the song is more likely to be complex. What does Model1 suggest about the relation between song complexity and it being a Top 10 song?\n",
    "###### The less complex the song, the more likely it is to be a Top 10 song.\n",
    "\n",
    "- Songs with heavier instrumentation tend to be louder (have higher values in the variable \"loudness\") and more energetic (have higher values in the variable \"energy\"). By inspecting the coefficient of the variable \"loudness\", what does Model 1 suggest? Do mainstream listeners prefer songs with heavy instrumentation or light instrumentation? By inspecting the coefficient of the variable \"energy\", do we draw the same conclusions as above?\n",
    "###### The coefficient for loundess indicates that listeners prefer heavy instrumentation while the coefficient for energy contradicts this information."
   ]
  },
  {
   "cell_type": "code",
   "execution_count": 7,
   "metadata": {},
   "outputs": [
    {
     "data": {
      "image/png": "[encoded data removed]",
      "text/plain": [
       "<Figure size 432x288 with 1 Axes>"
      ]
     },
     "metadata": {},
     "output_type": "display_data"
    }
   ],
   "source": [
    "# your code for examining model coefficients\n",
    "names = list(X)\n",
    "coefficients = logreg.coef_.tolist()[0]\n",
    "coef_matrix = pd.DataFrame(\n",
    "    {'Features': names,\n",
    "     'Coefficients': coefficients\n",
    "    })\n",
    "coef_matrix = coef_matrix.set_index('Features')\n",
    "coef_matrix.plot(kind='bar')\n",
    "plt.show()"
   ]
  },
  {
   "cell_type": "markdown",
   "metadata": {},
   "source": [
    "## A closer look at the model: multi-collinearity\n",
    "\n",
    "What is the correlation between the variables \"loudness\" and \"energy\" in the training set? Given that these two variables are highly correlated, Model 1 suffers from multicollinearity. To avoid this issue, we will omit one of these two variables and rerun the logistic regression. In the rest of this problem, we'll build two variations of our original model: Model 2, in which we keep \"energy\" and omit \"loudness\", and Model 3, in which we keep \"loudness\" and omit \"energy\"."
   ]
  },
  {
   "cell_type": "code",
   "execution_count": 8,
   "metadata": {},
   "outputs": [
    {
     "data": {
      "text/plain": [
       "0.7419918230564928"
      ]
     },
     "execution_count": 8,
     "metadata": {},
     "output_type": "execute_result"
    }
   ],
   "source": [
    "# your code here for correlation between loudness and energy\n",
    "clean.loudness.corr(clean.energy)"
   ]
  },
  {
   "cell_type": "markdown",
   "metadata": {},
   "source": [
    "## Build and evaluate Model2 (Model1 variant without loudness)\n",
    "- use the same train and test sets as before \n",
    "- evaluate confusion matrix on test set"
   ]
  },
  {
   "cell_type": "code",
   "execution_count": 9,
   "metadata": {},
   "outputs": [
    {
     "data": {
      "image/png": "[encoded data removed]",
      "text/plain": [
       "<Figure size 432x288 with 1 Axes>"
      ]
     },
     "metadata": {},
     "output_type": "display_data"
    },
    {
     "name": "stdout",
     "output_type": "stream",
     "text": [
      "Theta found by sklearn:  [[-8.32057061e-04  4.70776665e-03 -2.90449738e-03  6.67608734e-03\n",
      "   1.20740957e-02  1.98784852e-03 -1.48422898e-03 -4.60987262e-04\n",
      "   2.03583053e-02 -1.13364935e-01  6.70071124e-03 -1.07140222e-03\n",
      "  -4.62956968e-03  1.11427998e-04  9.86032683e-04 -3.04091769e-03\n",
      "   8.80668514e-03  7.61668217e-03 -7.31286576e-03  7.91749726e-04\n",
      "  -1.52154618e-02  6.10619351e-03 -6.79986283e-03 -3.61206976e-03\n",
      "   5.49343424e-03  3.36338410e-03  3.45834738e-04  3.65472039e-03\n",
      "   2.79544532e-03  7.04298112e-03 -2.88869283e-02  1.35314096e-02]] [-0.00287384]\n",
      "[[313   1]\n",
      " [ 49  10]]\n"
     ]
    }
   ],
   "source": [
    "# your model construction and evaluation code\n",
    "X2 = SongsTrain_.drop(columns=['Top10','loudness'])\n",
    "y2 = SongsTrain_.Top10\n",
    "test2 = SongsTest_.drop(columns=['Top10','loudness'])\n",
    "\n",
    "score_list2 = []\n",
    "\n",
    "for alpha in alpha_list:\n",
    "    logreg2 = linear_model.LogisticRegression(C=1.0/alpha,solver='lbfgs',fit_intercept=True)\n",
    "    logreg2.fit(X2, y2)\n",
    "    score = cross_val_score(logreg2, X2, y2,\n",
    "                             scoring='accuracy', cv=10)\n",
    "    score_list2.append(np.mean(score))\n",
    "\n",
    "score_dict2 = zip(alpha_list, score_list2)\n",
    "best_alpha2 = max(score_dict2,key=lambda item:item[1])\n",
    "plt.semilogx(alpha_list,score_list2)\n",
    "plt.xlabel('alpha')\n",
    "plt.ylabel('Accuracy')\n",
    "plt.show()\n",
    "\n",
    "\n",
    "alpha2 = best_alpha2[0]\n",
    "logreg2 = linear_model.LogisticRegression(C=1.0/alpha2,solver='lbfgs',fit_intercept=True)\n",
    "logreg2.fit(X2,y2)\n",
    "print(\"Theta found by sklearn: \", logreg2.coef_, logreg2.intercept_)\n",
    "\n",
    "\n",
    "\n",
    "coef_x2 = SongsTest_.Top10\n",
    "coef_y2 = logreg2.predict(test2)\n",
    "from sklearn.metrics import confusion_matrix\n",
    "confusion_matrix2 = confusion_matrix(coef_x2, coef_y2)\n",
    "tn2, fp2, fn2, tp2 = confusion_matrix2.ravel()\n",
    "print(confusion_matrix2)"
   ]
  },
  {
   "cell_type": "markdown",
   "metadata": {},
   "source": [
    "## Examining the learned Model2\n",
    "\n",
    "Look at the coefficients of the new learned model (model2). Plot them as a bar plot with names of the features on x-axis and coefficient value on the y axis.\n",
    "\n",
    "Which variables are most predictive of Top 10 ness of a song?\n",
    "###### Timbre_0_min, Timbre_0_max, Timbre_11_min\n",
    "\n",
    "By inspecting the coefficient of the variable \"energy\", do we draw the same conclusions as in Model 1 for preferences of mainstream listeners?\n",
    "###### Yes, we do. It indicates listeners do not prefer heavy instrumentation."
   ]
  },
  {
   "cell_type": "code",
   "execution_count": 10,
   "metadata": {},
   "outputs": [
    {
     "data": {
      "image/png": "[encoded data removed]",
      "text/plain": [
       "<Figure size 432x288 with 1 Axes>"
      ]
     },
     "metadata": {},
     "output_type": "display_data"
    }
   ],
   "source": [
    "# coeff plot code here\n",
    "names = list(X2)\n",
    "coefficients = logreg2.coef_.tolist()[0]\n",
    "coef_matrix = pd.DataFrame(\n",
    "    {'Features': names,\n",
    "     'Coefficients': coefficients\n",
    "    })\n",
    "coef_matrix = coef_matrix.set_index('Features')\n",
    "coef_matrix.plot(kind='bar')\n",
    "plt.show()"
   ]
  },
  {
   "cell_type": "markdown",
   "metadata": {},
   "source": [
    "## Build and evaluate Model3 (Model1 variant without energy)\n",
    "- use the same train and test sets as before \n",
    "- evaluate confusion matrix on test set\n"
   ]
  },
  {
   "cell_type": "code",
   "execution_count": 11,
   "metadata": {},
   "outputs": [
    {
     "data": {
      "image/png": "[encoded data removed]",
      "text/plain": [
       "<Figure size 432x288 with 1 Axes>"
      ]
     },
     "metadata": {},
     "output_type": "display_data"
    },
    {
     "name": "stdout",
     "output_type": "stream",
     "text": [
      "Theta found by sklearn:  [[-2.11756255e-03  1.29198078e-03  3.37472245e-02 -3.07346379e-03\n",
      "   2.29772483e-03  3.48556382e-03  5.31977274e-04 -1.97226067e-04\n",
      "   1.75683003e-02 -9.84402278e-02  6.03562630e-03 -1.24208033e-03\n",
      "  -4.79468671e-03  6.04919635e-05  1.08961395e-03 -3.08237915e-03\n",
      "   7.99116782e-03  7.16124810e-03 -6.46647684e-03  8.21538709e-04\n",
      "  -1.54924552e-02  5.79548793e-03 -6.62653898e-03 -3.62994195e-03\n",
      "   4.52519555e-03  5.51530784e-03  7.57734424e-04  4.23657934e-03\n",
      "   4.08850926e-03  5.86634020e-03 -2.41717392e-02  1.25481581e-02]] [-0.00255391]\n",
      "[[313   1]\n",
      " [ 51   8]]\n"
     ]
    }
   ],
   "source": [
    "# your model construction and evaluation code\n",
    "X3 = SongsTrain_.drop(columns=['Top10','energy'])\n",
    "y3 = SongsTrain_.Top10\n",
    "test3 = SongsTest_.drop(columns=['Top10', 'energy'])\n",
    "\n",
    "\n",
    "score_list3 = []\n",
    "\n",
    "for alpha in alpha_list:\n",
    "    logreg3 = linear_model.LogisticRegression(C=1.0/alpha,solver='lbfgs',fit_intercept=True)\n",
    "    logreg3.fit(X3, y3)\n",
    "    score = cross_val_score(logreg3, X3, y3,\n",
    "                             scoring='accuracy', cv=10)\n",
    "    score_list3.append(np.mean(score))\n",
    "\n",
    "score_dict3 = zip(alpha_list, score_list3)\n",
    "best_alpha3 = max(score_dict3,key=lambda item:item[1])\n",
    "plt.semilogx(alpha_list,score_list3)\n",
    "plt.xlabel('alpha')\n",
    "plt.ylabel('Accuracy')\n",
    "plt.show()\n",
    "\n",
    "\n",
    "alpha3 = best_alpha3[0]\n",
    "logreg3 = linear_model.LogisticRegression(C=1.0/alpha3,solver='lbfgs',fit_intercept=True)\n",
    "logreg3.fit(X3,y3)\n",
    "print(\"Theta found by sklearn: \", logreg3.coef_, logreg3.intercept_)\n",
    "\n",
    "\n",
    "coef_x3 = SongsTest_.Top10\n",
    "coef_y3 = logreg3.predict(test3)\n",
    "from sklearn.metrics import confusion_matrix\n",
    "confusion_matrix3 = confusion_matrix(coef_x3, coef_y3)\n",
    "tn3, fp3, fn3, tp3 = confusion_matrix3.ravel()\n",
    "print(confusion_matrix3)\n"
   ]
  },
  {
   "cell_type": "markdown",
   "metadata": {},
   "source": [
    "## Examining the learned Model3\n",
    "\n",
    "Look at the coefficients of the new learned model (Model3). Plot them as a bar plot with names of the features on x-axis and coefficient value on the y axis.\n",
    "\n",
    "Which variables are most predictive of Top 10 ness of a song?\n",
    "###### Loundess, Timbre_0_max\n",
    "\n",
    "By inspecting the coefficient of the variable \"loudness\", do we draw the same conclusions as in Model 1 for preferences of mainstream listeners?\n",
    "###### Yes, we do. It indicates listeners do not prefer heavy instrumentation.\n",
    "\n",
    "Look at the coefficient of loudness in Model 3. Remembering that higher loudness and energy both occur in songs with heavier instrumentation, do we make the same observation about the popularity of heavy instrumentation (or lack thereof) as we did with Model 2?\n",
    "###### The observation is more similar to model 1, in which the loudness coefficient and energy coefficient provide contradicting information about the popularity of heavy instrumentation."
   ]
  },
  {
   "cell_type": "code",
   "execution_count": 12,
   "metadata": {},
   "outputs": [
    {
     "data": {
      "image/png": "[encoded data removed]",
      "text/plain": [
       "<Figure size 432x288 with 1 Axes>"
      ]
     },
     "metadata": {},
     "output_type": "display_data"
    }
   ],
   "source": [
    "# coef plotting code here\n",
    "names = list(X3)\n",
    "coefficients = logreg3.coef_.tolist()[0]\n",
    "coef_matrix = pd.DataFrame(\n",
    "    {'Features': names,\n",
    "     'Coefficients': coefficients\n",
    "    })\n",
    "coef_matrix = coef_matrix.set_index('Features')\n",
    "coef_matrix.plot(kind='bar')\n",
    "plt.show()"
   ]
  },
  {
   "cell_type": "markdown",
   "metadata": {},
   "source": [
    "## Comparing the three models (with a new prediction threshold)\n",
    "- How many songs does Model 1 correctly predict as Top 10 hits in 2010 (remember that all songs in 2010 went into our test set), using a threshold of 0.45? How many non-hit songs does Model 1 predict will be Top 10 hits (again, looking at the test set), using a threshold of 0.45?\n",
    "- How many songs does Model 2 correctly predict as Top 10 hits in 2010 (remember that all songs in 2010 went into our test set), using a threshold of 0.45? How many non-hit songs does Model 2 predict will be Top 10 hits (again, looking at the test set), using a threshold of 0.45?\n",
    "- How many songs does Model 3 correctly predict as Top 10 hits in 2010 (remember that all songs in 2010 went into our test set), using a threshold of 0.45? How many non-hit songs does Model 3 predict will be Top 10 hits (again, looking at the test set), using a threshold of 0.45?"
   ]
  },
  {
   "cell_type": "code",
   "execution_count": 13,
   "metadata": {},
   "outputs": [
    {
     "name": "stdout",
     "output_type": "stream",
     "text": [
      "Hit Songs Predicted by Model 1: 12\n",
      "False Positives by Model 1: 1\n",
      "Hit Songs Predicted by Model 2: 14\n",
      "False Positives by Model 2: 2\n",
      "Hit Songs Predicted by Model 3: 12\n",
      "False Positives by Model 3: 1\n"
     ]
    }
   ],
   "source": [
    "tp_m1 = (confusion_matrix(SongsTest_['Top10'],(logreg.predict_proba(test)[:,1] > 0.45)).ravel()[3])\n",
    "fp_m1 = (confusion_matrix(SongsTest_['Top10'],(logreg.predict_proba(test)[:,1] > 0.45)).ravel()[1])\n",
    "print('Hit Songs Predicted by Model 1:', tp_m1)\n",
    "print('False Positives by Model 1:', fp_m1)\n",
    "\n",
    "tp_m2 = (confusion_matrix(SongsTest_['Top10'],(logreg2.predict_proba(test2)[:,1] > 0.45)).ravel()[3])\n",
    "fp_m2 = (confusion_matrix(SongsTest_['Top10'],(logreg2.predict_proba(test2)[:,1] > 0.45)).ravel()[1])\n",
    "print('Hit Songs Predicted by Model 2:', tp_m2)\n",
    "print('False Positives by Model 2:', fp_m2)\n",
    "\n",
    "tp_m3 = (confusion_matrix(SongsTest_['Top10'],(logreg3.predict_proba(test3)[:,1] > 0.45)).ravel()[3])\n",
    "fp_m3 = (confusion_matrix(SongsTest_['Top10'],(logreg3.predict_proba(test3)[:,1] > 0.45)).ravel()[1])\n",
    "print('Hit Songs Predicted by Model 3:', tp_m3)\n",
    "print('False Positives by Model 3:', fp_m3)\n",
    "\n"
   ]
  },
  {
   "cell_type": "markdown",
   "metadata": {},
   "source": [
    "## Which model would you prefer to use?\n",
    "- How many top10 songs are in the test set? What fraction do those do Models 1, 2 and 3 capture? \n",
    "- Now calculate the specificity and sensitivity of these three models. \n",
    "- Comment on the results and explain whether these models could be useful for people investing in the music business.\n",
    "###### The results show that the true positive rate was not very high. This shows that it is extremely hard to predict the success of musical hits based on the given factors. However, we can use the information and the characteristics that are significant to guide the production process of future music. I would use model 2 because the models have identical sensetivities but model 2 has slightly higher specificity.\n",
    "\n"
   ]
  },
  {
   "cell_type": "code",
   "execution_count": 14,
   "metadata": {},
   "outputs": [
    {
     "name": "stdout",
     "output_type": "stream",
     "text": [
      "Number of Top10 Songs = 59\n",
      "Model 1 TP Fraction = 0.13559322033898305\n",
      "Model 2 TP Fraction = 0.1694915254237288\n",
      "Model 3 TP Fraction = 0.13559322033898305\n",
      "Model 1 Specificity = 0.13559322033898305 Model 1 Sensitivity = 0.9968152866242038\n",
      "Model 2 Specificity = 0.1694915254237288 Model 2 Sensitivity = 0.9968152866242038\n",
      "Model 3 Specificity = 0.13559322033898305 Model 3 Sensitivity = 0.9968152866242038\n"
     ]
    }
   ],
   "source": [
    "# your code and explanation here\n",
    "from fractions import Fraction\n",
    "\n",
    "top10songs = len(SongsTest_[(SongsTest_['Top10']==1)])\n",
    "print('Number of Top10 Songs =', top10songs)\n",
    "print('Model 1 TP Fraction =', tp/top10songs)\n",
    "print('Model 2 TP Fraction =', tp2/top10songs)\n",
    "print('Model 3 TP Fraction =', tp3/top10songs)\n",
    "\n",
    "spec1 = tp / (tp + fn)\n",
    "sens1 = tn / (tn + fp)\n",
    "print('Model 1 Specificity =',spec1,'Model 1 Sensitivity =',sens1)\n",
    "\n",
    "spec2 = tp2 / (tp2 + fn2)\n",
    "sens2 = tn2 / (tn2 + fp2)\n",
    "print('Model 2 Specificity =',spec2,'Model 2 Sensitivity =',sens2)\n",
    "\n",
    "spec3 = tp3 / (tp3 + fn3)\n",
    "sens3 = tn3 / (tn3 + fp3)\n",
    "print('Model 3 Specificity =',spec3,'Model 3 Sensitivity =',sens3)\n",
    "\n"
   ]
  },
  {
   "cell_type": "markdown",
   "metadata": {},
   "source": [
    "## Extra credit: consider polynomial features and see if you can improve model performance by adding polynomial combinations of the given features\n",
    "- Use the same train and test sets as before to allow an apples-to-apples comparison.\n",
    "- Remember to regularize the models (use a validation set to select lambda)\n",
    "- Compute the confusion matrix and compute specificity and sensitivity\n",
    "- If the performance improves, to which feature combinations can you attribute it to?\n",
    "- If the performance does not improve, what could be reasons for that?"
   ]
  },
  {
   "cell_type": "code",
   "execution_count": 20,
   "metadata": {},
   "outputs": [
    {
     "data": {
      "image/png": "[encoded data removed]",
      "text/plain": [
       "<Figure size 432x288 with 1 Axes>"
      ]
     },
     "metadata": {},
     "output_type": "display_data"
    },
    {
     "name": "stdout",
     "output_type": "stream",
     "text": [
      "Best alpha:  1e-10\n",
      "Theta found by sklearn:  [[-0.00024514  0.00389762  0.07388589  0.00130105  0.00567627  0.01122292\n",
      "   0.00172549 -0.00280486 -0.00038052  0.02351233 -0.13055812  0.00585245\n",
      "  -0.00091172 -0.00461401 -0.00027975  0.00069943 -0.00337899  0.00810039\n",
      "   0.00757935 -0.0067618   0.00051927 -0.01828628  0.00640821 -0.00646611\n",
      "  -0.00265628  0.00277732  0.00689396 -0.00060284  0.0037701   0.0032172\n",
      "   0.00654895 -0.03236926  0.01825201]] [-0.00218923]\n",
      "Accuracy on the training set =  0.8590473545340925\n",
      "[[313   1]\n",
      " [ 48  11]]\n",
      "Model 1 Specificity = 0.1864406779661017 Model 1 Sensitivity = 0.9968152866242038\n"
     ]
    }
   ],
   "source": [
    "# your code here\n",
    "XP = SongsTrain_.drop(columns=['Top10'])\n",
    "yP = SongsTrain_.Top10\n",
    "testP = SongsTest_.drop(columns=['Top10'])\n",
    "\n",
    "alphasP = np.logspace(-10, 5, 4)\n",
    "scoresP = []\n",
    "\n",
    "for alpha in alphasP:\n",
    "    polynomial_features = PolynomialFeatures(degree=2,include_bias=False)\n",
    "    logregP = linear_model.LogisticRegression(C=1.0/alpha,solver='lbfgs',fit_intercept=True)\n",
    "    pipeline = Pipeline([(\"polynomial_features\", polynomial_features),(\"logreg\", logregP)])\n",
    "    pipeline.fit(XP, yP)\n",
    "    score = cross_val_score(pipeline, XP, yP, scoring='accuracy', cv=10)\n",
    "    scoresP.append(np.mean(score))\n",
    "\n",
    "\n",
    "score_dictP = zip(alphasP, scoresP)\n",
    "best_alphaP = max(score_dictP,key=lambda item:item[1])\n",
    "plt.semilogx(alphasP,scoresP)\n",
    "plt.xlabel('alpha')\n",
    "plt.ylabel('Accuracy')\n",
    "plt.show()\n",
    "\n",
    "alphaP = best_alphaP[0]\n",
    "print(\"Best alpha: \", alphaP)\n",
    "logregP = linear_model.LogisticRegression(C=1.0/alphaP,solver='lbfgs',fit_intercept=True)\n",
    "logregP.fit(XP, yP)\n",
    "\n",
    "predyP = logregP.predict(XP) \n",
    "accuracyP = np.mean(predyP==yP)\n",
    "print(\"Theta found by sklearn: \", logregP.coef_, logregP.intercept_)\n",
    "print(\"Accuracy on the training set = \", accuracyP)\n",
    "\n",
    "\n",
    "coef_xP = SongsTest_.Top10\n",
    "coef_yP = logregP.predict(testP)\n",
    "from sklearn.metrics import confusion_matrix\n",
    "confusion_matrixP = confusion_matrix(coef_xP, coef_yP)\n",
    "tnP, fpP, fnP, tpP = confusion_matrixP.ravel()\n",
    "print(confusion_matrixP)\n",
    "specP = tpP / (tpP + fnP)\n",
    "sensP = tnP / (tnP + fpP)\n",
    "print('Model P Specificity =',specP,'Model P Sensitivity =',sensP)"
   ]
  }
 ],
 "metadata": {
  "kernelspec": {
   "display_name": "Python 3",
   "language": "python",
   "name": "python3"
  },
  "language_info": {
   "codemirror_mode": {
    "name": "ipython",
    "version": 3
   },
   "file_extension": ".py",
   "mimetype": "text/x-python",
   "name": "python",
   "nbconvert_exporter": "python",
   "pygments_lexer": "ipython3",
   "version": "3.6.5"
  }
 },
 "nbformat": 4,
 "nbformat_minor": 2
}
